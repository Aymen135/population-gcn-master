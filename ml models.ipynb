{
  "cells": [
    {
      "cell_type": "code",
      "execution_count": 1,
      "metadata": {
        "id": "QvXN3JLRybc7"
      },
      "outputs": [],
      "source": [
        "import numpy as np\n",
        "import matplotlib.pyplot as plt"
      ]
    },
    {
      "cell_type": "code",
      "execution_count": 2,
      "metadata": {
        "id": "zaRrM2cx5pac"
      },
      "outputs": [],
      "source": [
        "from sklearn.model_selection import train_test_split"
      ]
    },
    {
      "cell_type": "code",
      "execution_count": 3,
      "metadata": {},
      "outputs": [
        {
          "name": "stderr",
          "output_type": "stream",
          "text": [
            "c:\\PFA\\population-gcn2\\ABIDEParser.py:227: RuntimeWarning: divide by zero encountered in arctanh\n",
            "  norm_networks = [np.arctanh(mat) for mat in all_networks]\n"
          ]
        }
      ],
      "source": [
        "import ABIDEParser as Reader\n",
        "# Get class labels\n",
        "subject_IDs = Reader.get_ids()\n",
        "labels = Reader.get_subject_score(subject_IDs, score='DX_GROUP')\n",
        "\n",
        "# Get acquisition site\n",
        "sites = Reader.get_subject_score(subject_IDs, score='SITE_ID')\n",
        "unique = np.unique(list(sites.values())).tolist()\n",
        "\n",
        "num_classes = 2\n",
        "num_nodes = len(subject_IDs)\n",
        "\n",
        "# Initialise variables for class labels and acquisition sites\n",
        "y_data = np.zeros([num_nodes, num_classes])\n",
        "y = np.zeros([num_nodes, 1])\n",
        "site = np.zeros([num_nodes, 1], dtype=int)\n",
        "\n",
        "# Get class labels and acquisition site for all subjects\n",
        "for i in range(num_nodes):\n",
        "    y_data[i, int(labels[subject_IDs[i]])-1] = 1\n",
        "    y[i] = int(labels[subject_IDs[i]])\n",
        "    site[i] = unique.index(sites[subject_IDs[i]])\n",
        "features = Reader.get_networks(subject_IDs, kind='correlation', atlas_name='ho')\n",
        "# x_train , x_test, y_train, y_test = train_test_split(features,y,train_size=0.8)\n",
        "# from sklearn.utils.validation import column_or_1d\n",
        "# y_train=column_or_1d(y_train, warn=True)\n"
      ]
    },
    {
      "cell_type": "code",
      "execution_count": 5,
      "metadata": {},
      "outputs": [],
      "source": [
        "y2=y.flatten()\n",
        "y2=y2-1"
      ]
    },
    {
      "cell_type": "code",
      "execution_count": 7,
      "metadata": {},
      "outputs": [],
      "source": [
        "x_train , x_test, y_train, y_test = train_test_split(features,y2,train_size=0.8)"
      ]
    },
    {
      "attachments": {},
      "cell_type": "markdown",
      "metadata": {},
      "source": [
        "(111*111-111)/2=6105"
      ]
    },
    {
      "cell_type": "code",
      "execution_count": 8,
      "metadata": {},
      "outputs": [
        {
          "data": {
            "text/plain": [
              "(696, 6105)"
            ]
          },
          "execution_count": 8,
          "metadata": {},
          "output_type": "execute_result"
        }
      ],
      "source": [
        "x_train.shape"
      ]
    },
    {
      "attachments": {},
      "cell_type": "markdown",
      "metadata": {
        "id": "Rud4S5l_nZKD"
      },
      "source": [
        "specificité et sensitivité\n",
        "recall = TP/(TP+FN) = sensitivity = TPR <br/>\n",
        "FPR = FP/(FP+TN) <br/>\n",
        "specificity = 1 - FPR"
      ]
    },
    {
      "cell_type": "code",
      "execution_count": 10,
      "metadata": {
        "id": "PizsQrTEklax"
      },
      "outputs": [],
      "source": [
        "from sklearn.linear_model import LogisticRegression\n",
        "from sklearn.metrics import classification_report,confusion_matrix,accuracy_score"
      ]
    },
    {
      "cell_type": "code",
      "execution_count": 11,
      "metadata": {},
      "outputs": [
        {
          "name": "stderr",
          "output_type": "stream",
          "text": [
            "c:\\Users\\ousem\\.virtualenvs\\population-gcn2-YZL6I4UQ\\lib\\site-packages\\sklearn\\linear_model\\_logistic.py:458: ConvergenceWarning: lbfgs failed to converge (status=1):\n",
            "STOP: TOTAL NO. of ITERATIONS REACHED LIMIT.\n",
            "\n",
            "Increase the number of iterations (max_iter) or scale the data as shown in:\n",
            "    https://scikit-learn.org/stable/modules/preprocessing.html\n",
            "Please also refer to the documentation for alternative solver options:\n",
            "    https://scikit-learn.org/stable/modules/linear_model.html#logistic-regression\n",
            "  n_iter_i = _check_optimize_result(\n"
          ]
        },
        {
          "data": {
            "text/html": [
              "<style>#sk-container-id-1 {color: black;background-color: white;}#sk-container-id-1 pre{padding: 0;}#sk-container-id-1 div.sk-toggleable {background-color: white;}#sk-container-id-1 label.sk-toggleable__label {cursor: pointer;display: block;width: 100%;margin-bottom: 0;padding: 0.3em;box-sizing: border-box;text-align: center;}#sk-container-id-1 label.sk-toggleable__label-arrow:before {content: \"▸\";float: left;margin-right: 0.25em;color: #696969;}#sk-container-id-1 label.sk-toggleable__label-arrow:hover:before {color: black;}#sk-container-id-1 div.sk-estimator:hover label.sk-toggleable__label-arrow:before {color: black;}#sk-container-id-1 div.sk-toggleable__content {max-height: 0;max-width: 0;overflow: hidden;text-align: left;background-color: #f0f8ff;}#sk-container-id-1 div.sk-toggleable__content pre {margin: 0.2em;color: black;border-radius: 0.25em;background-color: #f0f8ff;}#sk-container-id-1 input.sk-toggleable__control:checked~div.sk-toggleable__content {max-height: 200px;max-width: 100%;overflow: auto;}#sk-container-id-1 input.sk-toggleable__control:checked~label.sk-toggleable__label-arrow:before {content: \"▾\";}#sk-container-id-1 div.sk-estimator input.sk-toggleable__control:checked~label.sk-toggleable__label {background-color: #d4ebff;}#sk-container-id-1 div.sk-label input.sk-toggleable__control:checked~label.sk-toggleable__label {background-color: #d4ebff;}#sk-container-id-1 input.sk-hidden--visually {border: 0;clip: rect(1px 1px 1px 1px);clip: rect(1px, 1px, 1px, 1px);height: 1px;margin: -1px;overflow: hidden;padding: 0;position: absolute;width: 1px;}#sk-container-id-1 div.sk-estimator {font-family: monospace;background-color: #f0f8ff;border: 1px dotted black;border-radius: 0.25em;box-sizing: border-box;margin-bottom: 0.5em;}#sk-container-id-1 div.sk-estimator:hover {background-color: #d4ebff;}#sk-container-id-1 div.sk-parallel-item::after {content: \"\";width: 100%;border-bottom: 1px solid gray;flex-grow: 1;}#sk-container-id-1 div.sk-label:hover label.sk-toggleable__label {background-color: #d4ebff;}#sk-container-id-1 div.sk-serial::before {content: \"\";position: absolute;border-left: 1px solid gray;box-sizing: border-box;top: 0;bottom: 0;left: 50%;z-index: 0;}#sk-container-id-1 div.sk-serial {display: flex;flex-direction: column;align-items: center;background-color: white;padding-right: 0.2em;padding-left: 0.2em;position: relative;}#sk-container-id-1 div.sk-item {position: relative;z-index: 1;}#sk-container-id-1 div.sk-parallel {display: flex;align-items: stretch;justify-content: center;background-color: white;position: relative;}#sk-container-id-1 div.sk-item::before, #sk-container-id-1 div.sk-parallel-item::before {content: \"\";position: absolute;border-left: 1px solid gray;box-sizing: border-box;top: 0;bottom: 0;left: 50%;z-index: -1;}#sk-container-id-1 div.sk-parallel-item {display: flex;flex-direction: column;z-index: 1;position: relative;background-color: white;}#sk-container-id-1 div.sk-parallel-item:first-child::after {align-self: flex-end;width: 50%;}#sk-container-id-1 div.sk-parallel-item:last-child::after {align-self: flex-start;width: 50%;}#sk-container-id-1 div.sk-parallel-item:only-child::after {width: 0;}#sk-container-id-1 div.sk-dashed-wrapped {border: 1px dashed gray;margin: 0 0.4em 0.5em 0.4em;box-sizing: border-box;padding-bottom: 0.4em;background-color: white;}#sk-container-id-1 div.sk-label label {font-family: monospace;font-weight: bold;display: inline-block;line-height: 1.2em;}#sk-container-id-1 div.sk-label-container {text-align: center;}#sk-container-id-1 div.sk-container {/* jupyter's `normalize.less` sets `[hidden] { display: none; }` but bootstrap.min.css set `[hidden] { display: none !important; }` so we also need the `!important` here to be able to override the default hidden behavior on the sphinx rendered scikit-learn.org. See: https://github.com/scikit-learn/scikit-learn/issues/21755 */display: inline-block !important;position: relative;}#sk-container-id-1 div.sk-text-repr-fallback {display: none;}</style><div id=\"sk-container-id-1\" class=\"sk-top-container\"><div class=\"sk-text-repr-fallback\"><pre>LogisticRegression()</pre><b>In a Jupyter environment, please rerun this cell to show the HTML representation or trust the notebook. <br />On GitHub, the HTML representation is unable to render, please try loading this page with nbviewer.org.</b></div><div class=\"sk-container\" hidden><div class=\"sk-item\"><div class=\"sk-estimator sk-toggleable\"><input class=\"sk-toggleable__control sk-hidden--visually\" id=\"sk-estimator-id-1\" type=\"checkbox\" checked><label for=\"sk-estimator-id-1\" class=\"sk-toggleable__label sk-toggleable__label-arrow\">LogisticRegression</label><div class=\"sk-toggleable__content\"><pre>LogisticRegression()</pre></div></div></div></div></div>"
            ],
            "text/plain": [
              "LogisticRegression()"
            ]
          },
          "execution_count": 11,
          "metadata": {},
          "output_type": "execute_result"
        }
      ],
      "source": [
        "lr = LogisticRegression()\n",
        "lr.fit(x_train,y_train)"
      ]
    },
    {
      "cell_type": "code",
      "execution_count": 107,
      "metadata": {},
      "outputs": [
        {
          "data": {
            "text/plain": [
              "0.6742857142857143"
            ]
          },
          "execution_count": 107,
          "metadata": {},
          "output_type": "execute_result"
        }
      ],
      "source": [
        "lr.score(x_test,y_test)"
      ]
    },
    {
      "cell_type": "code",
      "execution_count": 13,
      "metadata": {
        "id": "32BwbEsZoYd8"
      },
      "outputs": [],
      "source": [
        "y_pred_lr = lr.predict(x_test)"
      ]
    },
    {
      "cell_type": "code",
      "execution_count": 15,
      "metadata": {
        "id": "Ey-42xbrKXFe"
      },
      "outputs": [],
      "source": [
        "def sensitivity_specificity(confusion_ma):\n",
        "  ss = {}\n",
        "  ss['sensitivity']=confusion_ma[0,0]/(confusion_ma[0,0]+confusion_ma[0,1])\n",
        "  fpr = confusion_ma[1,0]/(confusion_ma[1,0]+confusion_ma[1,1])\n",
        "  ss['specificity']=1-fpr\n",
        "  return ss"
      ]
    },
    {
      "cell_type": "code",
      "execution_count": 16,
      "metadata": {
        "id": "h2igJcQEeIQ2"
      },
      "outputs": [],
      "source": [
        "from sklearn.metrics import ConfusionMatrixDisplay"
      ]
    },
    {
      "cell_type": "code",
      "execution_count": 17,
      "metadata": {
        "colab": {
          "base_uri": "https://localhost:8080/",
          "height": 296
        },
        "id": "t_VjdK1TpUG7",
        "outputId": "4df0b3de-7a91-4ab3-8e0c-ad0918079480"
      },
      "outputs": [
        {
          "data": {
            "text/plain": [
              "<sklearn.metrics._plot.confusion_matrix.ConfusionMatrixDisplay at 0x1f4ccca9790>"
            ]
          },
          "execution_count": 17,
          "metadata": {},
          "output_type": "execute_result"
        },
        {
          "data": {
            "image/png": "[encoded data removed]",
            "text/plain": [
              "<Figure size 640x480 with 2 Axes>"
            ]
          },
          "metadata": {},
          "output_type": "display_data"
        }
      ],
      "source": [
        "cm = confusion_matrix(y_test,y_pred_lr)\n",
        "disp = ConfusionMatrixDisplay(confusion_matrix=cm)\n",
        "disp.plot()"
      ]
    },
    {
      "cell_type": "code",
      "execution_count": 18,
      "metadata": {
        "colab": {
          "base_uri": "https://localhost:8080/"
        },
        "id": "pGImeyhEKn4a",
        "outputId": "3c4d2263-f12c-4641-da38-a1f24e74b275"
      },
      "outputs": [
        {
          "data": {
            "text/plain": [
              "{'sensitivity': 0.5512820512820513, 'specificity': 0.7731958762886598}"
            ]
          },
          "execution_count": 18,
          "metadata": {},
          "output_type": "execute_result"
        }
      ],
      "source": [
        "sensitivity_specificity(cm)"
      ]
    },
    {
      "attachments": {},
      "cell_type": "markdown",
      "metadata": {
        "id": "Up1gKREmtb4J"
      },
      "source": [
        "propabilité de l'appartenance a la class 0 (!exited) et class 1(exited)"
      ]
    },
    {
      "cell_type": "code",
      "execution_count": 19,
      "metadata": {
        "id": "als-H8BZssdi"
      },
      "outputs": [],
      "source": [
        "y_pred_proba_lr = lr.predict_proba(x_test)"
      ]
    },
    {
      "cell_type": "code",
      "execution_count": 20,
      "metadata": {
        "colab": {
          "base_uri": "https://localhost:8080/",
          "height": 296
        },
        "id": "ZwFoRjc3uIwB",
        "outputId": "8ae6212b-5fbe-4b67-e6b1-fafe4da44ad7"
      },
      "outputs": [
        {
          "data": {
            "text/plain": [
              "<sklearn.metrics._plot.confusion_matrix.ConfusionMatrixDisplay at 0x1f4e5c5c6a0>"
            ]
          },
          "execution_count": 20,
          "metadata": {},
          "output_type": "execute_result"
        },
        {
          "data": {
            "image/png": "[encoded data removed]",
            "text/plain": [
              "<Figure size 640x480 with 2 Axes>"
            ]
          },
          "metadata": {},
          "output_type": "display_data"
        }
      ],
      "source": [
        "y_pred_with_threshold_lr = (y_pred_proba_lr[:,1] >= 0.6).astype(int)\n",
        "cm = confusion_matrix(y_test,y_pred_with_threshold_lr)\n",
        "disp = ConfusionMatrixDisplay(confusion_matrix=cm)\n",
        "disp.plot()"
      ]
    },
    {
      "cell_type": "code",
      "execution_count": 108,
      "metadata": {
        "id": "gktJQf3PzNmi"
      },
      "outputs": [],
      "source": [
        "from sklearn.metrics import roc_curve\n",
        "import pandas as pd\n",
        "from sklearn.metrics import roc_auc_score"
      ]
    },
    {
      "cell_type": "code",
      "execution_count": 24,
      "metadata": {
        "id": "Hz4AtpJxznPL"
      },
      "outputs": [],
      "source": [
        "fpr_lr, tpr_lr, th_lr = roc_curve(y_test,  y_pred_proba_lr[:,1])"
      ]
    },
    {
      "cell_type": "code",
      "execution_count": 190,
      "metadata": {},
      "outputs": [],
      "source": [
        "out_data = pd.DataFrame()"
      ]
    },
    {
      "cell_type": "code",
      "execution_count": 191,
      "metadata": {},
      "outputs": [
        {
          "data": {
            "text/html": [
              "<div>\n",
              "<style scoped>\n",
              "    .dataframe tbody tr th:only-of-type {\n",
              "        vertical-align: middle;\n",
              "    }\n",
              "\n",
              "    .dataframe tbody tr th {\n",
              "        vertical-align: top;\n",
              "    }\n",
              "\n",
              "    .dataframe thead th {\n",
              "        text-align: right;\n",
              "    }\n",
              "</style>\n",
              "<table border=\"1\" class=\"dataframe\">\n",
              "  <thead>\n",
              "    <tr style=\"text-align: right;\">\n",
              "      <th></th>\n",
              "      <th>fpr</th>\n",
              "      <th>tpr</th>\n",
              "      <th>roc_auc_score</th>\n",
              "      <th>accuracy</th>\n",
              "    </tr>\n",
              "  </thead>\n",
              "  <tbody>\n",
              "    <tr>\n",
              "      <th>0</th>\n",
              "      <td>0.000000</td>\n",
              "      <td>0.000000</td>\n",
              "      <td>0.710547</td>\n",
              "      <td>0.674286</td>\n",
              "    </tr>\n",
              "    <tr>\n",
              "      <th>1</th>\n",
              "      <td>0.000000</td>\n",
              "      <td>0.010309</td>\n",
              "      <td>0.710547</td>\n",
              "      <td>0.674286</td>\n",
              "    </tr>\n",
              "    <tr>\n",
              "      <th>2</th>\n",
              "      <td>0.000000</td>\n",
              "      <td>0.134021</td>\n",
              "      <td>0.710547</td>\n",
              "      <td>0.674286</td>\n",
              "    </tr>\n",
              "    <tr>\n",
              "      <th>3</th>\n",
              "      <td>0.025641</td>\n",
              "      <td>0.134021</td>\n",
              "      <td>0.710547</td>\n",
              "      <td>0.674286</td>\n",
              "    </tr>\n",
              "    <tr>\n",
              "      <th>4</th>\n",
              "      <td>0.025641</td>\n",
              "      <td>0.164948</td>\n",
              "      <td>0.710547</td>\n",
              "      <td>0.674286</td>\n",
              "    </tr>\n",
              "    <tr>\n",
              "      <th>...</th>\n",
              "      <td>...</td>\n",
              "      <td>...</td>\n",
              "      <td>...</td>\n",
              "      <td>...</td>\n",
              "    </tr>\n",
              "    <tr>\n",
              "      <th>75</th>\n",
              "      <td>0.910256</td>\n",
              "      <td>0.979381</td>\n",
              "      <td>0.710547</td>\n",
              "      <td>0.674286</td>\n",
              "    </tr>\n",
              "    <tr>\n",
              "      <th>76</th>\n",
              "      <td>0.910256</td>\n",
              "      <td>0.989691</td>\n",
              "      <td>0.710547</td>\n",
              "      <td>0.674286</td>\n",
              "    </tr>\n",
              "    <tr>\n",
              "      <th>77</th>\n",
              "      <td>0.974359</td>\n",
              "      <td>0.989691</td>\n",
              "      <td>0.710547</td>\n",
              "      <td>0.674286</td>\n",
              "    </tr>\n",
              "    <tr>\n",
              "      <th>78</th>\n",
              "      <td>0.974359</td>\n",
              "      <td>1.000000</td>\n",
              "      <td>0.710547</td>\n",
              "      <td>0.674286</td>\n",
              "    </tr>\n",
              "    <tr>\n",
              "      <th>79</th>\n",
              "      <td>1.000000</td>\n",
              "      <td>1.000000</td>\n",
              "      <td>0.710547</td>\n",
              "      <td>0.674286</td>\n",
              "    </tr>\n",
              "  </tbody>\n",
              "</table>\n",
              "<p>80 rows × 4 columns</p>\n",
              "</div>"
            ],
            "text/plain": [
              "         fpr       tpr  roc_auc_score  accuracy\n",
              "0   0.000000  0.000000       0.710547  0.674286\n",
              "1   0.000000  0.010309       0.710547  0.674286\n",
              "2   0.000000  0.134021       0.710547  0.674286\n",
              "3   0.025641  0.134021       0.710547  0.674286\n",
              "4   0.025641  0.164948       0.710547  0.674286\n",
              "..       ...       ...            ...       ...\n",
              "75  0.910256  0.979381       0.710547  0.674286\n",
              "76  0.910256  0.989691       0.710547  0.674286\n",
              "77  0.974359  0.989691       0.710547  0.674286\n",
              "78  0.974359  1.000000       0.710547  0.674286\n",
              "79  1.000000  1.000000       0.710547  0.674286\n",
              "\n",
              "[80 rows x 4 columns]"
            ]
          },
          "execution_count": 191,
          "metadata": {},
          "output_type": "execute_result"
        }
      ],
      "source": [
        "out_data[\"fpr\"]=fpr_lr\n",
        "out_data[\"tpr\"]=tpr_lr\n",
        "out_data[\"roc_auc_score\"]=roc_auc_score(y_test,  y_pred_proba_lr[:,1])\n",
        "out_data[\"accuracy\"]=lr.score(x_test,y_test)\n",
        "out_data"
      ]
    },
    {
      "cell_type": "code",
      "execution_count": 192,
      "metadata": {},
      "outputs": [],
      "source": [
        "out_data.to_csv(\"Logistic Regression.csv\",index=False)"
      ]
    },
    {
      "cell_type": "code",
      "execution_count": 26,
      "metadata": {
        "colab": {
          "base_uri": "https://localhost:8080/",
          "height": 279
        },
        "id": "0UTEgJZJzw_P",
        "outputId": "c9eccdfd-8450-40af-e887-e3541c5e67dc"
      },
      "outputs": [
        {
          "data": {
            "image/png": "[encoded data removed]",
            "text/plain": [
              "<Figure size 640x480 with 1 Axes>"
            ]
          },
          "metadata": {},
          "output_type": "display_data"
        }
      ],
      "source": [
        "plt.plot(fpr_lr,tpr_lr,label=lr.__class__.__name__+\" (AUC = \"+str(round(roc_auc_score(y_test,  y_pred_proba_lr[:,1]),2))+\")\")\n",
        "plt.ylabel('True Positive Rate')\n",
        "plt.xlabel('False Positive Rate')\n",
        "plt.legend(loc='lower right')\n",
        "plt.show()"
      ]
    },
    {
      "attachments": {},
      "cell_type": "markdown",
      "metadata": {
        "id": "-p1VsCsA6ZA_"
      },
      "source": [
        "AUC calculer l'air au dessous du courbe"
      ]
    },
    {
      "cell_type": "code",
      "execution_count": 28,
      "metadata": {
        "id": "YYGGgjm-8ZFN"
      },
      "outputs": [],
      "source": [
        "from sklearn.neighbors import KNeighborsClassifier"
      ]
    },
    {
      "cell_type": "code",
      "execution_count": 150,
      "metadata": {
        "id": "Zx6PNR_L88fQ"
      },
      "outputs": [],
      "source": [
        "knn = KNeighborsClassifier(5)\n",
        "knn.fit(x_train,y_train)\n",
        "y_pred_knn = knn.predict(x_test)"
      ]
    },
    {
      "cell_type": "code",
      "execution_count": 151,
      "metadata": {},
      "outputs": [
        {
          "data": {
            "text/plain": [
              "0.56"
            ]
          },
          "execution_count": 151,
          "metadata": {},
          "output_type": "execute_result"
        }
      ],
      "source": [
        "knn.score(x_test,y_test)"
      ]
    },
    {
      "cell_type": "code",
      "execution_count": null,
      "metadata": {},
      "outputs": [],
      "source": []
    },
    {
      "cell_type": "code",
      "execution_count": 31,
      "metadata": {
        "colab": {
          "base_uri": "https://localhost:8080/",
          "height": 296
        },
        "id": "Hjl6aNEU_NRP",
        "outputId": "121830f1-8087-4aea-912b-c9402d1d3080"
      },
      "outputs": [
        {
          "data": {
            "text/plain": [
              "<sklearn.metrics._plot.confusion_matrix.ConfusionMatrixDisplay at 0x1f4e5c73040>"
            ]
          },
          "execution_count": 31,
          "metadata": {},
          "output_type": "execute_result"
        },
        {
          "data": {
            "image/png": "[encoded data removed]",
            "text/plain": [
              "<Figure size 640x480 with 2 Axes>"
            ]
          },
          "metadata": {},
          "output_type": "display_data"
        }
      ],
      "source": [
        "cm = confusion_matrix(y_test,y_pred_knn)\n",
        "disp = ConfusionMatrixDisplay(confusion_matrix=cm)\n",
        "disp.plot()"
      ]
    },
    {
      "cell_type": "code",
      "execution_count": 33,
      "metadata": {
        "id": "eDAE1vaOAv43"
      },
      "outputs": [],
      "source": [
        "y_pred_proba_knn = knn.predict_proba(x_test)\n",
        "fpr_knn, tpr_knn, th_knn = roc_curve(y_test,  y_pred_proba_knn[:,1])"
      ]
    },
    {
      "cell_type": "code",
      "execution_count": 142,
      "metadata": {},
      "outputs": [
        {
          "data": {
            "text/plain": [
              "array([0.        , 0.12820513, 0.29487179, 0.6025641 , 0.8974359 ,\n",
              "       0.98717949, 1.        ])"
            ]
          },
          "execution_count": 142,
          "metadata": {},
          "output_type": "execute_result"
        }
      ],
      "source": [
        "fpr_knn"
      ]
    },
    {
      "cell_type": "code",
      "execution_count": 193,
      "metadata": {},
      "outputs": [
        {
          "data": {
            "text/html": [
              "<div>\n",
              "<style scoped>\n",
              "    .dataframe tbody tr th:only-of-type {\n",
              "        vertical-align: middle;\n",
              "    }\n",
              "\n",
              "    .dataframe tbody tr th {\n",
              "        vertical-align: top;\n",
              "    }\n",
              "\n",
              "    .dataframe thead th {\n",
              "        text-align: right;\n",
              "    }\n",
              "</style>\n",
              "<table border=\"1\" class=\"dataframe\">\n",
              "  <thead>\n",
              "    <tr style=\"text-align: right;\">\n",
              "      <th></th>\n",
              "      <th>fpr</th>\n",
              "      <th>tpr</th>\n",
              "      <th>roc_auc_score</th>\n",
              "      <th>accuracy</th>\n",
              "    </tr>\n",
              "  </thead>\n",
              "  <tbody>\n",
              "    <tr>\n",
              "      <th>0</th>\n",
              "      <td>0.000000</td>\n",
              "      <td>0.000000</td>\n",
              "      <td>0.527161</td>\n",
              "      <td>0.56</td>\n",
              "    </tr>\n",
              "    <tr>\n",
              "      <th>1</th>\n",
              "      <td>0.128205</td>\n",
              "      <td>0.072165</td>\n",
              "      <td>0.527161</td>\n",
              "      <td>0.56</td>\n",
              "    </tr>\n",
              "    <tr>\n",
              "      <th>2</th>\n",
              "      <td>0.294872</td>\n",
              "      <td>0.309278</td>\n",
              "      <td>0.527161</td>\n",
              "      <td>0.56</td>\n",
              "    </tr>\n",
              "    <tr>\n",
              "      <th>3</th>\n",
              "      <td>0.602564</td>\n",
              "      <td>0.690722</td>\n",
              "      <td>0.527161</td>\n",
              "      <td>0.56</td>\n",
              "    </tr>\n",
              "    <tr>\n",
              "      <th>4</th>\n",
              "      <td>0.897436</td>\n",
              "      <td>0.927835</td>\n",
              "      <td>0.527161</td>\n",
              "      <td>0.56</td>\n",
              "    </tr>\n",
              "    <tr>\n",
              "      <th>5</th>\n",
              "      <td>0.987179</td>\n",
              "      <td>0.979381</td>\n",
              "      <td>0.527161</td>\n",
              "      <td>0.56</td>\n",
              "    </tr>\n",
              "    <tr>\n",
              "      <th>6</th>\n",
              "      <td>1.000000</td>\n",
              "      <td>1.000000</td>\n",
              "      <td>0.527161</td>\n",
              "      <td>0.56</td>\n",
              "    </tr>\n",
              "  </tbody>\n",
              "</table>\n",
              "</div>"
            ],
            "text/plain": [
              "        fpr       tpr  roc_auc_score  accuracy\n",
              "0  0.000000  0.000000       0.527161      0.56\n",
              "1  0.128205  0.072165       0.527161      0.56\n",
              "2  0.294872  0.309278       0.527161      0.56\n",
              "3  0.602564  0.690722       0.527161      0.56\n",
              "4  0.897436  0.927835       0.527161      0.56\n",
              "5  0.987179  0.979381       0.527161      0.56\n",
              "6  1.000000  1.000000       0.527161      0.56"
            ]
          },
          "execution_count": 193,
          "metadata": {},
          "output_type": "execute_result"
        }
      ],
      "source": [
        "out_data = pd.DataFrame()\n",
        "out_data[\"fpr\"]=fpr_knn\n",
        "out_data[\"tpr\"]=tpr_knn\n",
        "out_data[\"roc_auc_score\"]=roc_auc_score(y_test,  y_pred_proba_knn[:,1])\n",
        "out_data[\"accuracy\"]=knn.score(x_test,y_test)\n",
        "out_data.to_csv(\"K-Nearest Neighbors.csv\",index=False)\n",
        "out_data"
      ]
    },
    {
      "cell_type": "code",
      "execution_count": 144,
      "metadata": {},
      "outputs": [],
      "source": [
        "out_data.to_csv(\"knn.csv\",index=False)"
      ]
    },
    {
      "cell_type": "code",
      "execution_count": 34,
      "metadata": {
        "colab": {
          "base_uri": "https://localhost:8080/",
          "height": 265
        },
        "id": "J-QUA7ZrBAXz",
        "outputId": "2a1b2f6e-9d98-47e2-9b99-9128c897a889"
      },
      "outputs": [
        {
          "data": {
            "image/png": "[encoded data removed]",
            "text/plain": [
              "<Figure size 640x480 with 1 Axes>"
            ]
          },
          "metadata": {},
          "output_type": "display_data"
        }
      ],
      "source": [
        "plt.plot(fpr_knn,tpr_knn,label=knn.__class__.__name__+\" (AUC = \"+str(round(roc_auc_score(y_test,  y_pred_proba_knn[:,1]),2))+\")\")\n",
        "plt.plot(fpr_lr,tpr_lr,label=lr.__class__.__name__+\" (AUC = \"+str(round(roc_auc_score(y_test,  y_pred_proba_lr[:,1]),2))+\")\")\n",
        "plt.legend(loc='lower right')\n",
        "plt.show()"
      ]
    },
    {
      "cell_type": "code",
      "execution_count": 119,
      "metadata": {
        "colab": {
          "base_uri": "https://localhost:8080/"
        },
        "id": "zByugBIzDp9a",
        "outputId": "989bb979-d41b-4eaa-8571-4807c43aff03"
      },
      "outputs": [
        {
          "name": "stdout",
          "output_type": "stream",
          "text": [
            "Fitting 5 folds for each of 19 candidates, totalling 95 fits\n",
            "{'n_neighbors': 19}\n",
            "0.6149331963001028\n"
          ]
        }
      ],
      "source": [
        "from sklearn.model_selection import GridSearchCV\n",
        "knn = KNeighborsClassifier()\n",
        "k_range = list(range(1, 20))\n",
        "param_grid = dict(n_neighbors=k_range)\n",
        "grid = GridSearchCV(knn, param_grid, cv=5, scoring='accuracy', return_train_score=True,verbose=1)\n",
        "grid_search=grid.fit(x_train, y_train)\n",
        "print(grid_search.best_params_)\n",
        "print(grid_search.best_score_)"
      ]
    },
    {
      "cell_type": "code",
      "execution_count": 126,
      "metadata": {},
      "outputs": [],
      "source": [
        "knn_8 = KNeighborsClassifier(n_neighbors=5).fit(x_train,y_train)\n",
        "y_pred_proba_knn_8=knn_8.predict_proba(x_test)"
      ]
    },
    {
      "cell_type": "code",
      "execution_count": 127,
      "metadata": {},
      "outputs": [
        {
          "data": {
            "text/plain": [
              "0.56"
            ]
          },
          "execution_count": 127,
          "metadata": {},
          "output_type": "execute_result"
        }
      ],
      "source": [
        "knn_8.score(x_test,y_test)"
      ]
    },
    {
      "cell_type": "code",
      "execution_count": 129,
      "metadata": {
        "colab": {
          "base_uri": "https://localhost:8080/",
          "height": 265
        },
        "id": "FnjcWhAlFiJG",
        "outputId": "4ee51863-5edd-4a14-bb88-b98a50b5b321"
      },
      "outputs": [
        {
          "data": {
            "image/png": "[encoded data removed]",
            "text/plain": [
              "<Figure size 640x480 with 1 Axes>"
            ]
          },
          "metadata": {},
          "output_type": "display_data"
        }
      ],
      "source": [
        "\n",
        "fpr_knn_8,tpr_knn_8,th_knn_8=roc_curve(y_test,y_pred_proba_knn_8[:,1])\n",
        "plt.plot(fpr_knn_8,tpr_knn_8,label=knn_8.__class__.__name__+\"(8) (AUC = \"+str(round(roc_auc_score(y_test,  y_pred_proba_knn_8[:,1]),2))+\")\")\n",
        "plt.plot(fpr_knn,tpr_knn,label=knn.__class__.__name__+\" (AUC = \"+str(round(roc_auc_score(y_test,  y_pred_proba_knn[:,1]),2))+\")\")\n",
        "plt.legend(loc='lower right')\n",
        "plt.show()"
      ]
    },
    {
      "cell_type": "code",
      "execution_count": 38,
      "metadata": {
        "colab": {
          "base_uri": "https://localhost:8080/",
          "height": 265
        },
        "id": "IBsr8P2gHAJ-",
        "outputId": "0d725d0e-323c-4b11-e557-562b42d42205"
      },
      "outputs": [
        {
          "data": {
            "image/png": "[encoded data removed]",
            "text/plain": [
              "<Figure size 640x480 with 1 Axes>"
            ]
          },
          "metadata": {},
          "output_type": "display_data"
        }
      ],
      "source": [
        "plt.plot(fpr_knn_8,tpr_knn_8,label=knn_8.__class__.__name__+\"(8) (AUC = \"+str(round(roc_auc_score(y_test,  y_pred_proba_knn_8[:,1]),2))+\")\")\n",
        "plt.plot(fpr_lr,tpr_lr,label=lr.__class__.__name__+\" (AUC = \"+str(round(roc_auc_score(y_test,  y_pred_proba_lr[:,1]),2))+\")\")\n",
        "plt.legend(loc='lower right')\n",
        "plt.show()"
      ]
    },
    {
      "cell_type": "code",
      "execution_count": 39,
      "metadata": {
        "id": "5F4Z6lxJxlhp"
      },
      "outputs": [],
      "source": [
        "from sklearn.svm import SVC"
      ]
    },
    {
      "cell_type": "code",
      "execution_count": 155,
      "metadata": {
        "id": "XqCI83z9xx7q"
      },
      "outputs": [],
      "source": [
        "svc = SVC(kernel=\"linear\",probability=True)\n",
        "svc.fit(x_train,y_train)\n",
        "y_pred_svc = svc.predict(x_test)"
      ]
    },
    {
      "cell_type": "code",
      "execution_count": 156,
      "metadata": {},
      "outputs": [
        {
          "data": {
            "text/plain": [
              "0.6571428571428571"
            ]
          },
          "execution_count": 156,
          "metadata": {},
          "output_type": "execute_result"
        }
      ],
      "source": [
        "svc.score(x_test,y_test)"
      ]
    },
    {
      "cell_type": "code",
      "execution_count": 157,
      "metadata": {},
      "outputs": [],
      "source": [
        "y_pred_proba_svc = svc.predict_proba(x_test)\n",
        "fpr_svc, tpr_svc, th_svc = roc_curve(y_test,  y_pred_proba_svc[:,1])"
      ]
    },
    {
      "cell_type": "code",
      "execution_count": 158,
      "metadata": {},
      "outputs": [
        {
          "data": {
            "image/png": "[encoded data removed]",
            "text/plain": [
              "<Figure size 640x480 with 1 Axes>"
            ]
          },
          "metadata": {},
          "output_type": "display_data"
        }
      ],
      "source": [
        "plt.plot(fpr_svc,tpr_svc,label=svc.__class__.__name__+\"(rbf) (AUC = \"+str(round(roc_auc_score(y_test,  y_pred_proba_svc[:,1]),2))+\")\")\n",
        "plt.legend(loc='lower right')\n",
        "plt.show()"
      ]
    },
    {
      "cell_type": "code",
      "execution_count": 194,
      "metadata": {},
      "outputs": [
        {
          "data": {
            "text/html": [
              "<div>\n",
              "<style scoped>\n",
              "    .dataframe tbody tr th:only-of-type {\n",
              "        vertical-align: middle;\n",
              "    }\n",
              "\n",
              "    .dataframe tbody tr th {\n",
              "        vertical-align: top;\n",
              "    }\n",
              "\n",
              "    .dataframe thead th {\n",
              "        text-align: right;\n",
              "    }\n",
              "</style>\n",
              "<table border=\"1\" class=\"dataframe\">\n",
              "  <thead>\n",
              "    <tr style=\"text-align: right;\">\n",
              "      <th></th>\n",
              "      <th>fpr</th>\n",
              "      <th>tpr</th>\n",
              "      <th>roc_auc_score</th>\n",
              "      <th>accuracy</th>\n",
              "    </tr>\n",
              "  </thead>\n",
              "  <tbody>\n",
              "    <tr>\n",
              "      <th>0</th>\n",
              "      <td>0.000000</td>\n",
              "      <td>0.000000</td>\n",
              "      <td>0.695612</td>\n",
              "      <td>0.657143</td>\n",
              "    </tr>\n",
              "    <tr>\n",
              "      <th>1</th>\n",
              "      <td>0.000000</td>\n",
              "      <td>0.010309</td>\n",
              "      <td>0.695612</td>\n",
              "      <td>0.657143</td>\n",
              "    </tr>\n",
              "    <tr>\n",
              "      <th>2</th>\n",
              "      <td>0.000000</td>\n",
              "      <td>0.061856</td>\n",
              "      <td>0.695612</td>\n",
              "      <td>0.657143</td>\n",
              "    </tr>\n",
              "    <tr>\n",
              "      <th>3</th>\n",
              "      <td>0.012821</td>\n",
              "      <td>0.061856</td>\n",
              "      <td>0.695612</td>\n",
              "      <td>0.657143</td>\n",
              "    </tr>\n",
              "    <tr>\n",
              "      <th>4</th>\n",
              "      <td>0.012821</td>\n",
              "      <td>0.103093</td>\n",
              "      <td>0.695612</td>\n",
              "      <td>0.657143</td>\n",
              "    </tr>\n",
              "    <tr>\n",
              "      <th>...</th>\n",
              "      <td>...</td>\n",
              "      <td>...</td>\n",
              "      <td>...</td>\n",
              "      <td>...</td>\n",
              "    </tr>\n",
              "    <tr>\n",
              "      <th>75</th>\n",
              "      <td>0.871795</td>\n",
              "      <td>0.979381</td>\n",
              "      <td>0.695612</td>\n",
              "      <td>0.657143</td>\n",
              "    </tr>\n",
              "    <tr>\n",
              "      <th>76</th>\n",
              "      <td>0.871795</td>\n",
              "      <td>0.989691</td>\n",
              "      <td>0.695612</td>\n",
              "      <td>0.657143</td>\n",
              "    </tr>\n",
              "    <tr>\n",
              "      <th>77</th>\n",
              "      <td>0.961538</td>\n",
              "      <td>0.989691</td>\n",
              "      <td>0.695612</td>\n",
              "      <td>0.657143</td>\n",
              "    </tr>\n",
              "    <tr>\n",
              "      <th>78</th>\n",
              "      <td>0.961538</td>\n",
              "      <td>1.000000</td>\n",
              "      <td>0.695612</td>\n",
              "      <td>0.657143</td>\n",
              "    </tr>\n",
              "    <tr>\n",
              "      <th>79</th>\n",
              "      <td>1.000000</td>\n",
              "      <td>1.000000</td>\n",
              "      <td>0.695612</td>\n",
              "      <td>0.657143</td>\n",
              "    </tr>\n",
              "  </tbody>\n",
              "</table>\n",
              "<p>80 rows × 4 columns</p>\n",
              "</div>"
            ],
            "text/plain": [
              "         fpr       tpr  roc_auc_score  accuracy\n",
              "0   0.000000  0.000000       0.695612  0.657143\n",
              "1   0.000000  0.010309       0.695612  0.657143\n",
              "2   0.000000  0.061856       0.695612  0.657143\n",
              "3   0.012821  0.061856       0.695612  0.657143\n",
              "4   0.012821  0.103093       0.695612  0.657143\n",
              "..       ...       ...            ...       ...\n",
              "75  0.871795  0.979381       0.695612  0.657143\n",
              "76  0.871795  0.989691       0.695612  0.657143\n",
              "77  0.961538  0.989691       0.695612  0.657143\n",
              "78  0.961538  1.000000       0.695612  0.657143\n",
              "79  1.000000  1.000000       0.695612  0.657143\n",
              "\n",
              "[80 rows x 4 columns]"
            ]
          },
          "execution_count": 194,
          "metadata": {},
          "output_type": "execute_result"
        }
      ],
      "source": [
        "out_data = pd.DataFrame()\n",
        "out_data[\"fpr\"]=fpr_svc\n",
        "out_data[\"tpr\"]=tpr_svc\n",
        "out_data[\"roc_auc_score\"]=roc_auc_score(y_test,  y_pred_proba_svc[:,1])\n",
        "out_data[\"accuracy\"]=svc.score(x_test,y_test)\n",
        "out_data.to_csv(\"Support Vector Machine Linear.csv\",index=False)\n",
        "out_data"
      ]
    },
    {
      "cell_type": "code",
      "execution_count": 42,
      "metadata": {
        "colab": {
          "base_uri": "https://localhost:8080/",
          "height": 296
        },
        "id": "6K2u3AojyShP",
        "outputId": "05115294-b658-44cd-d7cf-5bfe757af054"
      },
      "outputs": [
        {
          "data": {
            "text/plain": [
              "<sklearn.metrics._plot.confusion_matrix.ConfusionMatrixDisplay at 0x1f4ff774b80>"
            ]
          },
          "execution_count": 42,
          "metadata": {},
          "output_type": "execute_result"
        },
        {
          "data": {
            "image/png": "[encoded data removed]",
            "text/plain": [
              "<Figure size 640x480 with 2 Axes>"
            ]
          },
          "metadata": {},
          "output_type": "display_data"
        }
      ],
      "source": [
        "cm=confusion_matrix(y_test,y_pred_svc)\n",
        "disp = ConfusionMatrixDisplay(confusion_matrix=cm)\n",
        "disp.plot()"
      ]
    },
    {
      "cell_type": "code",
      "execution_count": 44,
      "metadata": {
        "id": "oKUPLdIDyu1k"
      },
      "outputs": [],
      "source": [
        "svc_rbf = SVC(kernel=\"rbf\",probability=True)\n",
        "svc_rbf.fit(x_train,y_train)\n",
        "y_pred_svc_rbf = svc_rbf.predict(x_test)"
      ]
    },
    {
      "cell_type": "code",
      "execution_count": 96,
      "metadata": {},
      "outputs": [
        {
          "data": {
            "text/plain": [
              "0.6742857142857143"
            ]
          },
          "execution_count": 96,
          "metadata": {},
          "output_type": "execute_result"
        }
      ],
      "source": [
        "svc_rbf.score(x_test,y_test)"
      ]
    },
    {
      "cell_type": "code",
      "execution_count": 46,
      "metadata": {
        "colab": {
          "base_uri": "https://localhost:8080/",
          "height": 296
        },
        "id": "g_hJH40M1RsK",
        "outputId": "cbcc550a-833c-4e61-cd15-5a734c69fbc0"
      },
      "outputs": [
        {
          "data": {
            "text/plain": [
              "<sklearn.metrics._plot.confusion_matrix.ConfusionMatrixDisplay at 0x1f4fb67f190>"
            ]
          },
          "execution_count": 46,
          "metadata": {},
          "output_type": "execute_result"
        },
        {
          "data": {
            "image/png": "[encoded data removed]",
            "text/plain": [
              "<Figure size 640x480 with 2 Axes>"
            ]
          },
          "metadata": {},
          "output_type": "display_data"
        }
      ],
      "source": [
        "cm=confusion_matrix(y_test,y_pred_svc_rbf)\n",
        "disp = ConfusionMatrixDisplay(confusion_matrix=cm)\n",
        "disp.plot()"
      ]
    },
    {
      "cell_type": "code",
      "execution_count": 48,
      "metadata": {
        "id": "03cpgSTZ1rCO"
      },
      "outputs": [],
      "source": [
        "y_pred_proba_svc_rbf = svc_rbf.predict_proba(x_test)\n",
        "fpr_svc_rbf, tpr_svc_rbf, th_svc_rbf = roc_curve(y_test,  y_pred_proba_svc_rbf[:,1])"
      ]
    },
    {
      "cell_type": "code",
      "execution_count": 195,
      "metadata": {},
      "outputs": [
        {
          "data": {
            "text/html": [
              "<div>\n",
              "<style scoped>\n",
              "    .dataframe tbody tr th:only-of-type {\n",
              "        vertical-align: middle;\n",
              "    }\n",
              "\n",
              "    .dataframe tbody tr th {\n",
              "        vertical-align: top;\n",
              "    }\n",
              "\n",
              "    .dataframe thead th {\n",
              "        text-align: right;\n",
              "    }\n",
              "</style>\n",
              "<table border=\"1\" class=\"dataframe\">\n",
              "  <thead>\n",
              "    <tr style=\"text-align: right;\">\n",
              "      <th></th>\n",
              "      <th>fpr</th>\n",
              "      <th>tpr</th>\n",
              "      <th>roc_auc_score</th>\n",
              "      <th>accuracy</th>\n",
              "    </tr>\n",
              "  </thead>\n",
              "  <tbody>\n",
              "    <tr>\n",
              "      <th>0</th>\n",
              "      <td>0.000000</td>\n",
              "      <td>0.000000</td>\n",
              "      <td>0.727729</td>\n",
              "      <td>0.674286</td>\n",
              "    </tr>\n",
              "    <tr>\n",
              "      <th>1</th>\n",
              "      <td>0.000000</td>\n",
              "      <td>0.010309</td>\n",
              "      <td>0.727729</td>\n",
              "      <td>0.674286</td>\n",
              "    </tr>\n",
              "    <tr>\n",
              "      <th>2</th>\n",
              "      <td>0.000000</td>\n",
              "      <td>0.082474</td>\n",
              "      <td>0.727729</td>\n",
              "      <td>0.674286</td>\n",
              "    </tr>\n",
              "    <tr>\n",
              "      <th>3</th>\n",
              "      <td>0.012821</td>\n",
              "      <td>0.082474</td>\n",
              "      <td>0.727729</td>\n",
              "      <td>0.674286</td>\n",
              "    </tr>\n",
              "    <tr>\n",
              "      <th>4</th>\n",
              "      <td>0.012821</td>\n",
              "      <td>0.092784</td>\n",
              "      <td>0.727729</td>\n",
              "      <td>0.674286</td>\n",
              "    </tr>\n",
              "    <tr>\n",
              "      <th>...</th>\n",
              "      <td>...</td>\n",
              "      <td>...</td>\n",
              "      <td>...</td>\n",
              "      <td>...</td>\n",
              "    </tr>\n",
              "    <tr>\n",
              "      <th>71</th>\n",
              "      <td>0.743590</td>\n",
              "      <td>0.979381</td>\n",
              "      <td>0.727729</td>\n",
              "      <td>0.674286</td>\n",
              "    </tr>\n",
              "    <tr>\n",
              "      <th>72</th>\n",
              "      <td>0.794872</td>\n",
              "      <td>0.979381</td>\n",
              "      <td>0.727729</td>\n",
              "      <td>0.674286</td>\n",
              "    </tr>\n",
              "    <tr>\n",
              "      <th>73</th>\n",
              "      <td>0.794872</td>\n",
              "      <td>0.989691</td>\n",
              "      <td>0.727729</td>\n",
              "      <td>0.674286</td>\n",
              "    </tr>\n",
              "    <tr>\n",
              "      <th>74</th>\n",
              "      <td>1.000000</td>\n",
              "      <td>0.989691</td>\n",
              "      <td>0.727729</td>\n",
              "      <td>0.674286</td>\n",
              "    </tr>\n",
              "    <tr>\n",
              "      <th>75</th>\n",
              "      <td>1.000000</td>\n",
              "      <td>1.000000</td>\n",
              "      <td>0.727729</td>\n",
              "      <td>0.674286</td>\n",
              "    </tr>\n",
              "  </tbody>\n",
              "</table>\n",
              "<p>76 rows × 4 columns</p>\n",
              "</div>"
            ],
            "text/plain": [
              "         fpr       tpr  roc_auc_score  accuracy\n",
              "0   0.000000  0.000000       0.727729  0.674286\n",
              "1   0.000000  0.010309       0.727729  0.674286\n",
              "2   0.000000  0.082474       0.727729  0.674286\n",
              "3   0.012821  0.082474       0.727729  0.674286\n",
              "4   0.012821  0.092784       0.727729  0.674286\n",
              "..       ...       ...            ...       ...\n",
              "71  0.743590  0.979381       0.727729  0.674286\n",
              "72  0.794872  0.979381       0.727729  0.674286\n",
              "73  0.794872  0.989691       0.727729  0.674286\n",
              "74  1.000000  0.989691       0.727729  0.674286\n",
              "75  1.000000  1.000000       0.727729  0.674286\n",
              "\n",
              "[76 rows x 4 columns]"
            ]
          },
          "execution_count": 195,
          "metadata": {},
          "output_type": "execute_result"
        }
      ],
      "source": [
        "out_data = pd.DataFrame()\n",
        "out_data[\"fpr\"]=fpr_svc_rbf\n",
        "out_data[\"tpr\"]=tpr_svc_rbf\n",
        "out_data[\"roc_auc_score\"]=roc_auc_score(y_test,  y_pred_proba_svc_rbf[:,1])\n",
        "out_data[\"accuracy\"]=svc_rbf.score(x_test,y_test)\n",
        "out_data.to_csv(\"Support Vector Machine RBF.csv\",index=False)\n",
        "out_data"
      ]
    },
    {
      "cell_type": "code",
      "execution_count": 49,
      "metadata": {
        "colab": {
          "base_uri": "https://localhost:8080/",
          "height": 265
        },
        "id": "gt-iCMK-2lGB",
        "outputId": "3d835b54-743a-4712-95a1-a6db80775352"
      },
      "outputs": [
        {
          "data": {
            "image/png": "[encoded data removed]",
            "text/plain": [
              "<Figure size 640x480 with 1 Axes>"
            ]
          },
          "metadata": {},
          "output_type": "display_data"
        }
      ],
      "source": [
        "plt.plot(fpr_svc_rbf,tpr_svc_rbf,label=svc_rbf.__class__.__name__+\"(rbf) (AUC = \"+str(round(roc_auc_score(y_test,  y_pred_proba_svc_rbf[:,1]),2))+\")\")\n",
        "plt.plot(fpr_knn_8,tpr_knn_8,label=knn_8.__class__.__name__+\"(8) (AUC = \"+str(round(roc_auc_score(y_test,  y_pred_proba_knn_8[:,1]),2))+\")\")\n",
        "plt.plot(fpr_lr,tpr_lr,label=lr.__class__.__name__+\" (AUC = \"+str(round(roc_auc_score(y_test,  y_pred_proba_lr[:,1]),2))+\")\")\n",
        "plt.legend(loc='lower right')\n",
        "plt.show()"
      ]
    },
    {
      "cell_type": "code",
      "execution_count": 50,
      "metadata": {
        "id": "dTgZ5qhJ7JF_"
      },
      "outputs": [],
      "source": [
        "from sklearn.tree import DecisionTreeClassifier"
      ]
    },
    {
      "cell_type": "code",
      "execution_count": 173,
      "metadata": {
        "colab": {
          "base_uri": "https://localhost:8080/"
        },
        "id": "ypoXmw6V89ld",
        "outputId": "57017e76-bb16-4470-9b1d-3cec4ddd5896"
      },
      "outputs": [],
      "source": [
        "dtc = DecisionTreeClassifier(max_depth=4)\n",
        "dtc.fit(x_train,y_train)\n",
        "y_pred_dtc = dtc.predict(x_test)"
      ]
    },
    {
      "cell_type": "code",
      "execution_count": 174,
      "metadata": {},
      "outputs": [
        {
          "data": {
            "text/plain": [
              "0.56"
            ]
          },
          "execution_count": 174,
          "metadata": {},
          "output_type": "execute_result"
        }
      ],
      "source": [
        "dtc.score(x_test,y_test)"
      ]
    },
    {
      "cell_type": "code",
      "execution_count": null,
      "metadata": {},
      "outputs": [],
      "source": []
    },
    {
      "cell_type": "code",
      "execution_count": 52,
      "metadata": {
        "colab": {
          "base_uri": "https://localhost:8080/",
          "height": 296
        },
        "id": "cwCLuCxS_uj1",
        "outputId": "f9cdb2bf-a6b7-46d8-ebfd-b9c8f5c4ea1e"
      },
      "outputs": [
        {
          "data": {
            "text/plain": [
              "<sklearn.metrics._plot.confusion_matrix.ConfusionMatrixDisplay at 0x1f4ff7b7640>"
            ]
          },
          "execution_count": 52,
          "metadata": {},
          "output_type": "execute_result"
        },
        {
          "data": {
            "image/png": "[encoded data removed]",
            "text/plain": [
              "<Figure size 640x480 with 2 Axes>"
            ]
          },
          "metadata": {},
          "output_type": "display_data"
        }
      ],
      "source": [
        "cm=confusion_matrix(y_test,y_pred_dtc)\n",
        "disp = ConfusionMatrixDisplay(confusion_matrix=cm)\n",
        "disp.plot()"
      ]
    },
    {
      "cell_type": "code",
      "execution_count": 54,
      "metadata": {
        "id": "pPhCvyKB_zq2"
      },
      "outputs": [],
      "source": [
        "y_pred_proba_dtc = dtc.predict_proba(x_test)\n",
        "fpr_dtc, tpr_dtc, th_dtc = roc_curve(y_test,  y_pred_proba_dtc[:,1])"
      ]
    },
    {
      "cell_type": "code",
      "execution_count": 188,
      "metadata": {},
      "outputs": [
        {
          "data": {
            "text/html": [
              "<div>\n",
              "<style scoped>\n",
              "    .dataframe tbody tr th:only-of-type {\n",
              "        vertical-align: middle;\n",
              "    }\n",
              "\n",
              "    .dataframe tbody tr th {\n",
              "        vertical-align: top;\n",
              "    }\n",
              "\n",
              "    .dataframe thead th {\n",
              "        text-align: right;\n",
              "    }\n",
              "</style>\n",
              "<table border=\"1\" class=\"dataframe\">\n",
              "  <thead>\n",
              "    <tr style=\"text-align: right;\">\n",
              "      <th></th>\n",
              "      <th>fpr</th>\n",
              "      <th>tpr</th>\n",
              "      <th>roc_auc_score</th>\n",
              "      <th>accuracy</th>\n",
              "    </tr>\n",
              "  </thead>\n",
              "  <tbody>\n",
              "    <tr>\n",
              "      <th>0</th>\n",
              "      <td>0.000000</td>\n",
              "      <td>0.000000</td>\n",
              "      <td>0.578575</td>\n",
              "      <td>0.56</td>\n",
              "    </tr>\n",
              "    <tr>\n",
              "      <th>1</th>\n",
              "      <td>0.153846</td>\n",
              "      <td>0.175258</td>\n",
              "      <td>0.578575</td>\n",
              "      <td>0.56</td>\n",
              "    </tr>\n",
              "    <tr>\n",
              "      <th>2</th>\n",
              "      <td>0.166667</td>\n",
              "      <td>0.185567</td>\n",
              "      <td>0.578575</td>\n",
              "      <td>0.56</td>\n",
              "    </tr>\n",
              "    <tr>\n",
              "      <th>3</th>\n",
              "      <td>0.230769</td>\n",
              "      <td>0.257732</td>\n",
              "      <td>0.578575</td>\n",
              "      <td>0.56</td>\n",
              "    </tr>\n",
              "    <tr>\n",
              "      <th>4</th>\n",
              "      <td>0.269231</td>\n",
              "      <td>0.381443</td>\n",
              "      <td>0.578575</td>\n",
              "      <td>0.56</td>\n",
              "    </tr>\n",
              "    <tr>\n",
              "      <th>5</th>\n",
              "      <td>0.294872</td>\n",
              "      <td>0.443299</td>\n",
              "      <td>0.578575</td>\n",
              "      <td>0.56</td>\n",
              "    </tr>\n",
              "    <tr>\n",
              "      <th>6</th>\n",
              "      <td>0.410256</td>\n",
              "      <td>0.484536</td>\n",
              "      <td>0.578575</td>\n",
              "      <td>0.56</td>\n",
              "    </tr>\n",
              "    <tr>\n",
              "      <th>7</th>\n",
              "      <td>0.435897</td>\n",
              "      <td>0.525773</td>\n",
              "      <td>0.578575</td>\n",
              "      <td>0.56</td>\n",
              "    </tr>\n",
              "    <tr>\n",
              "      <th>8</th>\n",
              "      <td>0.576923</td>\n",
              "      <td>0.649485</td>\n",
              "      <td>0.578575</td>\n",
              "      <td>0.56</td>\n",
              "    </tr>\n",
              "    <tr>\n",
              "      <th>9</th>\n",
              "      <td>0.589744</td>\n",
              "      <td>0.721649</td>\n",
              "      <td>0.578575</td>\n",
              "      <td>0.56</td>\n",
              "    </tr>\n",
              "    <tr>\n",
              "      <th>10</th>\n",
              "      <td>0.653846</td>\n",
              "      <td>0.804124</td>\n",
              "      <td>0.578575</td>\n",
              "      <td>0.56</td>\n",
              "    </tr>\n",
              "    <tr>\n",
              "      <th>11</th>\n",
              "      <td>0.666667</td>\n",
              "      <td>0.804124</td>\n",
              "      <td>0.578575</td>\n",
              "      <td>0.56</td>\n",
              "    </tr>\n",
              "    <tr>\n",
              "      <th>12</th>\n",
              "      <td>0.717949</td>\n",
              "      <td>0.876289</td>\n",
              "      <td>0.578575</td>\n",
              "      <td>0.56</td>\n",
              "    </tr>\n",
              "    <tr>\n",
              "      <th>13</th>\n",
              "      <td>0.871795</td>\n",
              "      <td>0.948454</td>\n",
              "      <td>0.578575</td>\n",
              "      <td>0.56</td>\n",
              "    </tr>\n",
              "    <tr>\n",
              "      <th>14</th>\n",
              "      <td>1.000000</td>\n",
              "      <td>1.000000</td>\n",
              "      <td>0.578575</td>\n",
              "      <td>0.56</td>\n",
              "    </tr>\n",
              "  </tbody>\n",
              "</table>\n",
              "</div>"
            ],
            "text/plain": [
              "         fpr       tpr  roc_auc_score  accuracy\n",
              "0   0.000000  0.000000       0.578575      0.56\n",
              "1   0.153846  0.175258       0.578575      0.56\n",
              "2   0.166667  0.185567       0.578575      0.56\n",
              "3   0.230769  0.257732       0.578575      0.56\n",
              "4   0.269231  0.381443       0.578575      0.56\n",
              "5   0.294872  0.443299       0.578575      0.56\n",
              "6   0.410256  0.484536       0.578575      0.56\n",
              "7   0.435897  0.525773       0.578575      0.56\n",
              "8   0.576923  0.649485       0.578575      0.56\n",
              "9   0.589744  0.721649       0.578575      0.56\n",
              "10  0.653846  0.804124       0.578575      0.56\n",
              "11  0.666667  0.804124       0.578575      0.56\n",
              "12  0.717949  0.876289       0.578575      0.56\n",
              "13  0.871795  0.948454       0.578575      0.56\n",
              "14  1.000000  1.000000       0.578575      0.56"
            ]
          },
          "execution_count": 188,
          "metadata": {},
          "output_type": "execute_result"
        }
      ],
      "source": [
        "out_data = pd.DataFrame()\n",
        "out_data[\"fpr\"]=fpr_dtc\n",
        "out_data[\"tpr\"]=tpr_dtc\n",
        "out_data[\"roc_auc_score\"]=roc_auc_score(y_test,  y_pred_proba_dtc[:,1])\n",
        "out_data[\"accuracy\"]=dtc.score(x_test,y_test)\n",
        "out_data.to_csv(\"Decision Tree.csv\",index=False)\n",
        "out_data"
      ]
    },
    {
      "cell_type": "code",
      "execution_count": 55,
      "metadata": {
        "colab": {
          "base_uri": "https://localhost:8080/",
          "height": 265
        },
        "id": "vNQZijx6C4Z-",
        "outputId": "00778c4e-e18c-4cbe-96a7-16b7f2633442"
      },
      "outputs": [
        {
          "data": {
            "image/png": "[encoded data removed]",
            "text/plain": [
              "<Figure size 640x480 with 1 Axes>"
            ]
          },
          "metadata": {},
          "output_type": "display_data"
        }
      ],
      "source": [
        "plt.plot(fpr_dtc,tpr_dtc,label=dtc.__class__.__name__+\"(5) (AUC = \"+str(round(roc_auc_score(y_test,  y_pred_proba_dtc[:,1]),2))+\")\")\n",
        "plt.plot(fpr_svc_rbf,tpr_svc_rbf,label=svc_rbf.__class__.__name__+\"(rbf) (AUC = \"+str(round(roc_auc_score(y_test,  y_pred_proba_svc_rbf[:,1]),2))+\")\")\n",
        "plt.plot(fpr_knn_8,tpr_knn_8,label=knn_8.__class__.__name__+\"(8) (AUC = \"+str(round(roc_auc_score(y_test,  y_pred_proba_knn_8[:,1]),2))+\")\")\n",
        "plt.plot(fpr_lr,tpr_lr,label=lr.__class__.__name__+\" (AUC = \"+str(round(roc_auc_score(y_test,  y_pred_proba_lr[:,1]),2))+\")\")\n",
        "plt.legend(loc='lower right')\n",
        "plt.show()"
      ]
    },
    {
      "attachments": {},
      "cell_type": "markdown",
      "metadata": {
        "id": "x8p0MK7vbH1J"
      },
      "source": [
        "Transformer le fichier dot generer par la methode export_graphviz ver un fichier pdf :\n",
        "https://drive.google.com/file/d/1-zg_ulxCk9mmN3RzuipcA4qJK4RIescf/view?usp=sharing"
      ]
    },
    {
      "cell_type": "code",
      "execution_count": 56,
      "metadata": {
        "id": "7MBwQmxCJB8k"
      },
      "outputs": [],
      "source": [
        "from sklearn.ensemble import RandomForestClassifier"
      ]
    },
    {
      "cell_type": "code",
      "execution_count": 57,
      "metadata": {
        "colab": {
          "base_uri": "https://localhost:8080/"
        },
        "id": "tee1AtJ7KSlx",
        "outputId": "9ff2ff25-7f27-4473-ec3e-a445f6704a38"
      },
      "outputs": [
        {
          "data": {
            "text/plain": [
              "0.6514285714285715"
            ]
          },
          "execution_count": 57,
          "metadata": {},
          "output_type": "execute_result"
        }
      ],
      "source": [
        "rfc = RandomForestClassifier(500)\n",
        "rfc.fit(x_train,y_train)\n",
        "y_pred_rfc = rfc.predict(x_test)"
      ]
    },
    {
      "cell_type": "code",
      "execution_count": 98,
      "metadata": {},
      "outputs": [
        {
          "data": {
            "text/plain": [
              "0.6514285714285715"
            ]
          },
          "execution_count": 98,
          "metadata": {},
          "output_type": "execute_result"
        }
      ],
      "source": [
        "rfc.score(x_test,y_test)"
      ]
    },
    {
      "cell_type": "code",
      "execution_count": 58,
      "metadata": {
        "colab": {
          "base_uri": "https://localhost:8080/",
          "height": 296
        },
        "id": "y3UJp05RKoSC",
        "outputId": "456080f0-6796-44ab-f44f-e8e4b47dbf31"
      },
      "outputs": [
        {
          "data": {
            "text/plain": [
              "<sklearn.metrics._plot.confusion_matrix.ConfusionMatrixDisplay at 0x1f4859f6f40>"
            ]
          },
          "execution_count": 58,
          "metadata": {},
          "output_type": "execute_result"
        },
        {
          "data": {
            "image/png": "[encoded data removed]",
            "text/plain": [
              "<Figure size 640x480 with 2 Axes>"
            ]
          },
          "metadata": {},
          "output_type": "display_data"
        }
      ],
      "source": [
        "cm=confusion_matrix(y_test,y_pred_rfc)\n",
        "disp = ConfusionMatrixDisplay(confusion_matrix=cm)\n",
        "disp.plot()"
      ]
    },
    {
      "cell_type": "code",
      "execution_count": 60,
      "metadata": {
        "id": "60mgQZ12LWy-"
      },
      "outputs": [],
      "source": [
        "y_pred_proba_rfc = rfc.predict_proba(x_test)\n",
        "fpr_rfc, tpr_rfc, th_rfc = roc_curve(y_test,  y_pred_proba_rfc[:,1])"
      ]
    },
    {
      "cell_type": "code",
      "execution_count": 196,
      "metadata": {},
      "outputs": [
        {
          "data": {
            "text/html": [
              "<div>\n",
              "<style scoped>\n",
              "    .dataframe tbody tr th:only-of-type {\n",
              "        vertical-align: middle;\n",
              "    }\n",
              "\n",
              "    .dataframe tbody tr th {\n",
              "        vertical-align: top;\n",
              "    }\n",
              "\n",
              "    .dataframe thead th {\n",
              "        text-align: right;\n",
              "    }\n",
              "</style>\n",
              "<table border=\"1\" class=\"dataframe\">\n",
              "  <thead>\n",
              "    <tr style=\"text-align: right;\">\n",
              "      <th></th>\n",
              "      <th>fpr</th>\n",
              "      <th>tpr</th>\n",
              "      <th>roc_auc_score</th>\n",
              "      <th>accuracy</th>\n",
              "    </tr>\n",
              "  </thead>\n",
              "  <tbody>\n",
              "    <tr>\n",
              "      <th>0</th>\n",
              "      <td>0.000000</td>\n",
              "      <td>0.000000</td>\n",
              "      <td>0.711538</td>\n",
              "      <td>0.651429</td>\n",
              "    </tr>\n",
              "    <tr>\n",
              "      <th>1</th>\n",
              "      <td>0.000000</td>\n",
              "      <td>0.010309</td>\n",
              "      <td>0.711538</td>\n",
              "      <td>0.651429</td>\n",
              "    </tr>\n",
              "    <tr>\n",
              "      <th>2</th>\n",
              "      <td>0.000000</td>\n",
              "      <td>0.030928</td>\n",
              "      <td>0.711538</td>\n",
              "      <td>0.651429</td>\n",
              "    </tr>\n",
              "    <tr>\n",
              "      <th>3</th>\n",
              "      <td>0.012821</td>\n",
              "      <td>0.041237</td>\n",
              "      <td>0.711538</td>\n",
              "      <td>0.651429</td>\n",
              "    </tr>\n",
              "    <tr>\n",
              "      <th>4</th>\n",
              "      <td>0.012821</td>\n",
              "      <td>0.072165</td>\n",
              "      <td>0.711538</td>\n",
              "      <td>0.651429</td>\n",
              "    </tr>\n",
              "    <tr>\n",
              "      <th>...</th>\n",
              "      <td>...</td>\n",
              "      <td>...</td>\n",
              "      <td>...</td>\n",
              "      <td>...</td>\n",
              "    </tr>\n",
              "    <tr>\n",
              "      <th>75</th>\n",
              "      <td>0.923077</td>\n",
              "      <td>0.979381</td>\n",
              "      <td>0.711538</td>\n",
              "      <td>0.651429</td>\n",
              "    </tr>\n",
              "    <tr>\n",
              "      <th>76</th>\n",
              "      <td>0.923077</td>\n",
              "      <td>1.000000</td>\n",
              "      <td>0.711538</td>\n",
              "      <td>0.651429</td>\n",
              "    </tr>\n",
              "    <tr>\n",
              "      <th>77</th>\n",
              "      <td>0.935897</td>\n",
              "      <td>1.000000</td>\n",
              "      <td>0.711538</td>\n",
              "      <td>0.651429</td>\n",
              "    </tr>\n",
              "    <tr>\n",
              "      <th>78</th>\n",
              "      <td>0.961538</td>\n",
              "      <td>1.000000</td>\n",
              "      <td>0.711538</td>\n",
              "      <td>0.651429</td>\n",
              "    </tr>\n",
              "    <tr>\n",
              "      <th>79</th>\n",
              "      <td>1.000000</td>\n",
              "      <td>1.000000</td>\n",
              "      <td>0.711538</td>\n",
              "      <td>0.651429</td>\n",
              "    </tr>\n",
              "  </tbody>\n",
              "</table>\n",
              "<p>80 rows × 4 columns</p>\n",
              "</div>"
            ],
            "text/plain": [
              "         fpr       tpr  roc_auc_score  accuracy\n",
              "0   0.000000  0.000000       0.711538  0.651429\n",
              "1   0.000000  0.010309       0.711538  0.651429\n",
              "2   0.000000  0.030928       0.711538  0.651429\n",
              "3   0.012821  0.041237       0.711538  0.651429\n",
              "4   0.012821  0.072165       0.711538  0.651429\n",
              "..       ...       ...            ...       ...\n",
              "75  0.923077  0.979381       0.711538  0.651429\n",
              "76  0.923077  1.000000       0.711538  0.651429\n",
              "77  0.935897  1.000000       0.711538  0.651429\n",
              "78  0.961538  1.000000       0.711538  0.651429\n",
              "79  1.000000  1.000000       0.711538  0.651429\n",
              "\n",
              "[80 rows x 4 columns]"
            ]
          },
          "execution_count": 196,
          "metadata": {},
          "output_type": "execute_result"
        }
      ],
      "source": [
        "out_data = pd.DataFrame()\n",
        "out_data[\"fpr\"]=fpr_rfc\n",
        "out_data[\"tpr\"]=tpr_rfc\n",
        "out_data[\"roc_auc_score\"]=roc_auc_score(y_test,  y_pred_proba_rfc[:,1])\n",
        "out_data[\"accuracy\"]=rfc.score(x_test,y_test)\n",
        "out_data.to_csv(\"Random Forest.csv\",index=False)\n",
        "out_data"
      ]
    },
    {
      "cell_type": "code",
      "execution_count": 61,
      "metadata": {
        "colab": {
          "base_uri": "https://localhost:8080/",
          "height": 265
        },
        "id": "E4wSo3DwLSHm",
        "outputId": "74e609e3-73be-4ae5-867c-98a5b7391ad3"
      },
      "outputs": [
        {
          "data": {
            "image/png": "[encoded data removed]",
            "text/plain": [
              "<Figure size 640x480 with 1 Axes>"
            ]
          },
          "metadata": {},
          "output_type": "display_data"
        }
      ],
      "source": [
        "plt.plot(fpr_rfc,tpr_rfc,label=rfc.__class__.__name__+\"(500) (AUC = \"+str(round(roc_auc_score(y_test,  y_pred_proba_rfc[:,1]),2))+\")\")\n",
        "plt.plot(fpr_dtc,tpr_dtc,label=dtc.__class__.__name__+\"(5) (AUC = \"+str(round(roc_auc_score(y_test,  y_pred_proba_dtc[:,1]),2))+\")\")\n",
        "plt.plot(fpr_svc_rbf,tpr_svc_rbf,label=svc_rbf.__class__.__name__+\"(rbf) (AUC = \"+str(round(roc_auc_score(y_test,  y_pred_proba_svc_rbf[:,1]),2))+\")\")\n",
        "plt.plot(fpr_knn_8,tpr_knn_8,label=knn_8.__class__.__name__+\"(8) (AUC = \"+str(round(roc_auc_score(y_test,  y_pred_proba_knn_8[:,1]),2))+\")\")\n",
        "plt.plot(fpr_lr,tpr_lr,label=lr.__class__.__name__+\" (AUC = \"+str(round(roc_auc_score(y_test,  y_pred_proba_lr[:,1]),2))+\")\")\n",
        "plt.legend(loc='lower right')\n",
        "plt.show()"
      ]
    },
    {
      "attachments": {},
      "cell_type": "markdown",
      "metadata": {},
      "source": [
        "no roc curve"
      ]
    },
    {
      "cell_type": "code",
      "execution_count": 132,
      "metadata": {},
      "outputs": [
        {
          "data": {
            "text/plain": [
              "0.6571428571428571"
            ]
          },
          "execution_count": 132,
          "metadata": {},
          "output_type": "execute_result"
        }
      ],
      "source": [
        "from sklearn.linear_model import RidgeClassifier\n",
        "ridge = RidgeClassifier()\n",
        "ridge.fit(x_train,y_train)\n",
        "y_pred_ridge = ridge.predict(x_test)\n",
        "accuracy_score(y_test,y_pred_ridge)"
      ]
    },
    {
      "cell_type": "code",
      "execution_count": 99,
      "metadata": {},
      "outputs": [
        {
          "data": {
            "text/plain": [
              "0.6571428571428571"
            ]
          },
          "execution_count": 99,
          "metadata": {},
          "output_type": "execute_result"
        }
      ],
      "source": [
        "ridge.score(x_test,y_test)"
      ]
    },
    {
      "cell_type": "code",
      "execution_count": null,
      "metadata": {},
      "outputs": [],
      "source": [
        "from sklearn.naive_bayes import GaussianNB\n",
        "gnb = GaussianNB()\n",
        "y_pred = gnb.fit(x_train, y_train).predict(x_test)"
      ]
    },
    {
      "cell_type": "code",
      "execution_count": 136,
      "metadata": {},
      "outputs": [],
      "source": [
        "y_pred_proba_gnb = gnb.predict_proba(x_test)"
      ]
    },
    {
      "cell_type": "code",
      "execution_count": 179,
      "metadata": {},
      "outputs": [],
      "source": [
        "fpr_gnb,tpr_gnb,th_gnb=roc_curve(y_test,y_pred_proba_gnb[:,1])"
      ]
    },
    {
      "cell_type": "code",
      "execution_count": 207,
      "metadata": {},
      "outputs": [
        {
          "data": {
            "text/html": [
              "<div>\n",
              "<style scoped>\n",
              "    .dataframe tbody tr th:only-of-type {\n",
              "        vertical-align: middle;\n",
              "    }\n",
              "\n",
              "    .dataframe tbody tr th {\n",
              "        vertical-align: top;\n",
              "    }\n",
              "\n",
              "    .dataframe thead th {\n",
              "        text-align: right;\n",
              "    }\n",
              "</style>\n",
              "<table border=\"1\" class=\"dataframe\">\n",
              "  <thead>\n",
              "    <tr style=\"text-align: right;\">\n",
              "      <th></th>\n",
              "      <th>fpr</th>\n",
              "      <th>tpr</th>\n",
              "      <th>roc_auc_score</th>\n",
              "      <th>accuracy</th>\n",
              "    </tr>\n",
              "  </thead>\n",
              "  <tbody>\n",
              "    <tr>\n",
              "      <th>0</th>\n",
              "      <td>0.000000</td>\n",
              "      <td>0.000000</td>\n",
              "      <td>0.680941</td>\n",
              "      <td>0.6</td>\n",
              "    </tr>\n",
              "    <tr>\n",
              "      <th>1</th>\n",
              "      <td>0.217949</td>\n",
              "      <td>0.381443</td>\n",
              "      <td>0.680941</td>\n",
              "      <td>0.6</td>\n",
              "    </tr>\n",
              "    <tr>\n",
              "      <th>2</th>\n",
              "      <td>0.217949</td>\n",
              "      <td>0.391753</td>\n",
              "      <td>0.680941</td>\n",
              "      <td>0.6</td>\n",
              "    </tr>\n",
              "    <tr>\n",
              "      <th>3</th>\n",
              "      <td>0.230769</td>\n",
              "      <td>0.402062</td>\n",
              "      <td>0.680941</td>\n",
              "      <td>0.6</td>\n",
              "    </tr>\n",
              "    <tr>\n",
              "      <th>4</th>\n",
              "      <td>0.230769</td>\n",
              "      <td>0.412371</td>\n",
              "      <td>0.680941</td>\n",
              "      <td>0.6</td>\n",
              "    </tr>\n",
              "    <tr>\n",
              "      <th>5</th>\n",
              "      <td>0.243590</td>\n",
              "      <td>0.412371</td>\n",
              "      <td>0.680941</td>\n",
              "      <td>0.6</td>\n",
              "    </tr>\n",
              "    <tr>\n",
              "      <th>6</th>\n",
              "      <td>0.243590</td>\n",
              "      <td>0.453608</td>\n",
              "      <td>0.680941</td>\n",
              "      <td>0.6</td>\n",
              "    </tr>\n",
              "    <tr>\n",
              "      <th>7</th>\n",
              "      <td>0.256410</td>\n",
              "      <td>0.453608</td>\n",
              "      <td>0.680941</td>\n",
              "      <td>0.6</td>\n",
              "    </tr>\n",
              "    <tr>\n",
              "      <th>8</th>\n",
              "      <td>0.256410</td>\n",
              "      <td>0.484536</td>\n",
              "      <td>0.680941</td>\n",
              "      <td>0.6</td>\n",
              "    </tr>\n",
              "    <tr>\n",
              "      <th>9</th>\n",
              "      <td>0.269231</td>\n",
              "      <td>0.484536</td>\n",
              "      <td>0.680941</td>\n",
              "      <td>0.6</td>\n",
              "    </tr>\n",
              "    <tr>\n",
              "      <th>10</th>\n",
              "      <td>0.269231</td>\n",
              "      <td>0.494845</td>\n",
              "      <td>0.680941</td>\n",
              "      <td>0.6</td>\n",
              "    </tr>\n",
              "    <tr>\n",
              "      <th>11</th>\n",
              "      <td>0.282051</td>\n",
              "      <td>0.494845</td>\n",
              "      <td>0.680941</td>\n",
              "      <td>0.6</td>\n",
              "    </tr>\n",
              "    <tr>\n",
              "      <th>12</th>\n",
              "      <td>0.282051</td>\n",
              "      <td>0.505155</td>\n",
              "      <td>0.680941</td>\n",
              "      <td>0.6</td>\n",
              "    </tr>\n",
              "    <tr>\n",
              "      <th>13</th>\n",
              "      <td>0.294872</td>\n",
              "      <td>0.505155</td>\n",
              "      <td>0.680941</td>\n",
              "      <td>0.6</td>\n",
              "    </tr>\n",
              "    <tr>\n",
              "      <th>14</th>\n",
              "      <td>0.294872</td>\n",
              "      <td>0.536082</td>\n",
              "      <td>0.680941</td>\n",
              "      <td>0.6</td>\n",
              "    </tr>\n",
              "    <tr>\n",
              "      <th>15</th>\n",
              "      <td>0.307692</td>\n",
              "      <td>0.536082</td>\n",
              "      <td>0.680941</td>\n",
              "      <td>0.6</td>\n",
              "    </tr>\n",
              "    <tr>\n",
              "      <th>16</th>\n",
              "      <td>0.307692</td>\n",
              "      <td>0.597938</td>\n",
              "      <td>0.680941</td>\n",
              "      <td>0.6</td>\n",
              "    </tr>\n",
              "    <tr>\n",
              "      <th>17</th>\n",
              "      <td>0.320513</td>\n",
              "      <td>0.597938</td>\n",
              "      <td>0.680941</td>\n",
              "      <td>0.6</td>\n",
              "    </tr>\n",
              "    <tr>\n",
              "      <th>18</th>\n",
              "      <td>0.320513</td>\n",
              "      <td>0.608247</td>\n",
              "      <td>0.680941</td>\n",
              "      <td>0.6</td>\n",
              "    </tr>\n",
              "    <tr>\n",
              "      <th>19</th>\n",
              "      <td>0.333333</td>\n",
              "      <td>0.608247</td>\n",
              "      <td>0.680941</td>\n",
              "      <td>0.6</td>\n",
              "    </tr>\n",
              "    <tr>\n",
              "      <th>20</th>\n",
              "      <td>0.333333</td>\n",
              "      <td>0.618557</td>\n",
              "      <td>0.680941</td>\n",
              "      <td>0.6</td>\n",
              "    </tr>\n",
              "    <tr>\n",
              "      <th>21</th>\n",
              "      <td>0.346154</td>\n",
              "      <td>0.618557</td>\n",
              "      <td>0.680941</td>\n",
              "      <td>0.6</td>\n",
              "    </tr>\n",
              "    <tr>\n",
              "      <th>22</th>\n",
              "      <td>0.346154</td>\n",
              "      <td>0.628866</td>\n",
              "      <td>0.680941</td>\n",
              "      <td>0.6</td>\n",
              "    </tr>\n",
              "    <tr>\n",
              "      <th>23</th>\n",
              "      <td>0.371795</td>\n",
              "      <td>0.628866</td>\n",
              "      <td>0.680941</td>\n",
              "      <td>0.6</td>\n",
              "    </tr>\n",
              "    <tr>\n",
              "      <th>24</th>\n",
              "      <td>0.371795</td>\n",
              "      <td>0.670103</td>\n",
              "      <td>0.680941</td>\n",
              "      <td>0.6</td>\n",
              "    </tr>\n",
              "    <tr>\n",
              "      <th>25</th>\n",
              "      <td>0.384615</td>\n",
              "      <td>0.670103</td>\n",
              "      <td>0.680941</td>\n",
              "      <td>0.6</td>\n",
              "    </tr>\n",
              "    <tr>\n",
              "      <th>26</th>\n",
              "      <td>0.384615</td>\n",
              "      <td>0.690722</td>\n",
              "      <td>0.680941</td>\n",
              "      <td>0.6</td>\n",
              "    </tr>\n",
              "    <tr>\n",
              "      <th>27</th>\n",
              "      <td>0.397436</td>\n",
              "      <td>0.690722</td>\n",
              "      <td>0.680941</td>\n",
              "      <td>0.6</td>\n",
              "    </tr>\n",
              "    <tr>\n",
              "      <th>28</th>\n",
              "      <td>0.397436</td>\n",
              "      <td>0.721649</td>\n",
              "      <td>0.680941</td>\n",
              "      <td>0.6</td>\n",
              "    </tr>\n",
              "    <tr>\n",
              "      <th>29</th>\n",
              "      <td>0.435897</td>\n",
              "      <td>0.721649</td>\n",
              "      <td>0.680941</td>\n",
              "      <td>0.6</td>\n",
              "    </tr>\n",
              "    <tr>\n",
              "      <th>30</th>\n",
              "      <td>0.435897</td>\n",
              "      <td>0.731959</td>\n",
              "      <td>0.680941</td>\n",
              "      <td>0.6</td>\n",
              "    </tr>\n",
              "    <tr>\n",
              "      <th>31</th>\n",
              "      <td>0.448718</td>\n",
              "      <td>0.731959</td>\n",
              "      <td>0.680941</td>\n",
              "      <td>0.6</td>\n",
              "    </tr>\n",
              "    <tr>\n",
              "      <th>32</th>\n",
              "      <td>0.448718</td>\n",
              "      <td>0.762887</td>\n",
              "      <td>0.680941</td>\n",
              "      <td>0.6</td>\n",
              "    </tr>\n",
              "    <tr>\n",
              "      <th>33</th>\n",
              "      <td>0.461538</td>\n",
              "      <td>0.762887</td>\n",
              "      <td>0.680941</td>\n",
              "      <td>0.6</td>\n",
              "    </tr>\n",
              "    <tr>\n",
              "      <th>34</th>\n",
              "      <td>0.461538</td>\n",
              "      <td>0.773196</td>\n",
              "      <td>0.680941</td>\n",
              "      <td>0.6</td>\n",
              "    </tr>\n",
              "    <tr>\n",
              "      <th>35</th>\n",
              "      <td>0.512821</td>\n",
              "      <td>0.773196</td>\n",
              "      <td>0.680941</td>\n",
              "      <td>0.6</td>\n",
              "    </tr>\n",
              "    <tr>\n",
              "      <th>36</th>\n",
              "      <td>0.512821</td>\n",
              "      <td>0.824742</td>\n",
              "      <td>0.680941</td>\n",
              "      <td>0.6</td>\n",
              "    </tr>\n",
              "    <tr>\n",
              "      <th>37</th>\n",
              "      <td>0.525641</td>\n",
              "      <td>0.824742</td>\n",
              "      <td>0.680941</td>\n",
              "      <td>0.6</td>\n",
              "    </tr>\n",
              "    <tr>\n",
              "      <th>38</th>\n",
              "      <td>0.525641</td>\n",
              "      <td>0.845361</td>\n",
              "      <td>0.680941</td>\n",
              "      <td>0.6</td>\n",
              "    </tr>\n",
              "    <tr>\n",
              "      <th>39</th>\n",
              "      <td>0.551282</td>\n",
              "      <td>0.845361</td>\n",
              "      <td>0.680941</td>\n",
              "      <td>0.6</td>\n",
              "    </tr>\n",
              "    <tr>\n",
              "      <th>40</th>\n",
              "      <td>0.551282</td>\n",
              "      <td>0.865979</td>\n",
              "      <td>0.680941</td>\n",
              "      <td>0.6</td>\n",
              "    </tr>\n",
              "    <tr>\n",
              "      <th>41</th>\n",
              "      <td>0.589744</td>\n",
              "      <td>0.865979</td>\n",
              "      <td>0.680941</td>\n",
              "      <td>0.6</td>\n",
              "    </tr>\n",
              "    <tr>\n",
              "      <th>42</th>\n",
              "      <td>0.589744</td>\n",
              "      <td>0.876289</td>\n",
              "      <td>0.680941</td>\n",
              "      <td>0.6</td>\n",
              "    </tr>\n",
              "    <tr>\n",
              "      <th>43</th>\n",
              "      <td>0.602564</td>\n",
              "      <td>0.876289</td>\n",
              "      <td>0.680941</td>\n",
              "      <td>0.6</td>\n",
              "    </tr>\n",
              "    <tr>\n",
              "      <th>44</th>\n",
              "      <td>0.602564</td>\n",
              "      <td>0.896907</td>\n",
              "      <td>0.680941</td>\n",
              "      <td>0.6</td>\n",
              "    </tr>\n",
              "    <tr>\n",
              "      <th>45</th>\n",
              "      <td>0.705128</td>\n",
              "      <td>0.896907</td>\n",
              "      <td>0.680941</td>\n",
              "      <td>0.6</td>\n",
              "    </tr>\n",
              "    <tr>\n",
              "      <th>46</th>\n",
              "      <td>0.705128</td>\n",
              "      <td>0.917526</td>\n",
              "      <td>0.680941</td>\n",
              "      <td>0.6</td>\n",
              "    </tr>\n",
              "    <tr>\n",
              "      <th>47</th>\n",
              "      <td>0.756410</td>\n",
              "      <td>0.917526</td>\n",
              "      <td>0.680941</td>\n",
              "      <td>0.6</td>\n",
              "    </tr>\n",
              "    <tr>\n",
              "      <th>48</th>\n",
              "      <td>0.756410</td>\n",
              "      <td>0.948454</td>\n",
              "      <td>0.680941</td>\n",
              "      <td>0.6</td>\n",
              "    </tr>\n",
              "    <tr>\n",
              "      <th>49</th>\n",
              "      <td>0.782051</td>\n",
              "      <td>0.948454</td>\n",
              "      <td>0.680941</td>\n",
              "      <td>0.6</td>\n",
              "    </tr>\n",
              "    <tr>\n",
              "      <th>50</th>\n",
              "      <td>0.782051</td>\n",
              "      <td>0.958763</td>\n",
              "      <td>0.680941</td>\n",
              "      <td>0.6</td>\n",
              "    </tr>\n",
              "    <tr>\n",
              "      <th>51</th>\n",
              "      <td>0.858974</td>\n",
              "      <td>0.958763</td>\n",
              "      <td>0.680941</td>\n",
              "      <td>0.6</td>\n",
              "    </tr>\n",
              "    <tr>\n",
              "      <th>52</th>\n",
              "      <td>0.858974</td>\n",
              "      <td>0.969072</td>\n",
              "      <td>0.680941</td>\n",
              "      <td>0.6</td>\n",
              "    </tr>\n",
              "    <tr>\n",
              "      <th>53</th>\n",
              "      <td>0.871795</td>\n",
              "      <td>0.969072</td>\n",
              "      <td>0.680941</td>\n",
              "      <td>0.6</td>\n",
              "    </tr>\n",
              "    <tr>\n",
              "      <th>54</th>\n",
              "      <td>0.871795</td>\n",
              "      <td>0.989691</td>\n",
              "      <td>0.680941</td>\n",
              "      <td>0.6</td>\n",
              "    </tr>\n",
              "    <tr>\n",
              "      <th>55</th>\n",
              "      <td>0.948718</td>\n",
              "      <td>0.989691</td>\n",
              "      <td>0.680941</td>\n",
              "      <td>0.6</td>\n",
              "    </tr>\n",
              "    <tr>\n",
              "      <th>56</th>\n",
              "      <td>0.948718</td>\n",
              "      <td>1.000000</td>\n",
              "      <td>0.680941</td>\n",
              "      <td>0.6</td>\n",
              "    </tr>\n",
              "    <tr>\n",
              "      <th>57</th>\n",
              "      <td>1.000000</td>\n",
              "      <td>1.000000</td>\n",
              "      <td>0.680941</td>\n",
              "      <td>0.6</td>\n",
              "    </tr>\n",
              "  </tbody>\n",
              "</table>\n",
              "</div>"
            ],
            "text/plain": [
              "         fpr       tpr  roc_auc_score  accuracy\n",
              "0   0.000000  0.000000       0.680941       0.6\n",
              "1   0.217949  0.381443       0.680941       0.6\n",
              "2   0.217949  0.391753       0.680941       0.6\n",
              "3   0.230769  0.402062       0.680941       0.6\n",
              "4   0.230769  0.412371       0.680941       0.6\n",
              "5   0.243590  0.412371       0.680941       0.6\n",
              "6   0.243590  0.453608       0.680941       0.6\n",
              "7   0.256410  0.453608       0.680941       0.6\n",
              "8   0.256410  0.484536       0.680941       0.6\n",
              "9   0.269231  0.484536       0.680941       0.6\n",
              "10  0.269231  0.494845       0.680941       0.6\n",
              "11  0.282051  0.494845       0.680941       0.6\n",
              "12  0.282051  0.505155       0.680941       0.6\n",
              "13  0.294872  0.505155       0.680941       0.6\n",
              "14  0.294872  0.536082       0.680941       0.6\n",
              "15  0.307692  0.536082       0.680941       0.6\n",
              "16  0.307692  0.597938       0.680941       0.6\n",
              "17  0.320513  0.597938       0.680941       0.6\n",
              "18  0.320513  0.608247       0.680941       0.6\n",
              "19  0.333333  0.608247       0.680941       0.6\n",
              "20  0.333333  0.618557       0.680941       0.6\n",
              "21  0.346154  0.618557       0.680941       0.6\n",
              "22  0.346154  0.628866       0.680941       0.6\n",
              "23  0.371795  0.628866       0.680941       0.6\n",
              "24  0.371795  0.670103       0.680941       0.6\n",
              "25  0.384615  0.670103       0.680941       0.6\n",
              "26  0.384615  0.690722       0.680941       0.6\n",
              "27  0.397436  0.690722       0.680941       0.6\n",
              "28  0.397436  0.721649       0.680941       0.6\n",
              "29  0.435897  0.721649       0.680941       0.6\n",
              "30  0.435897  0.731959       0.680941       0.6\n",
              "31  0.448718  0.731959       0.680941       0.6\n",
              "32  0.448718  0.762887       0.680941       0.6\n",
              "33  0.461538  0.762887       0.680941       0.6\n",
              "34  0.461538  0.773196       0.680941       0.6\n",
              "35  0.512821  0.773196       0.680941       0.6\n",
              "36  0.512821  0.824742       0.680941       0.6\n",
              "37  0.525641  0.824742       0.680941       0.6\n",
              "38  0.525641  0.845361       0.680941       0.6\n",
              "39  0.551282  0.845361       0.680941       0.6\n",
              "40  0.551282  0.865979       0.680941       0.6\n",
              "41  0.589744  0.865979       0.680941       0.6\n",
              "42  0.589744  0.876289       0.680941       0.6\n",
              "43  0.602564  0.876289       0.680941       0.6\n",
              "44  0.602564  0.896907       0.680941       0.6\n",
              "45  0.705128  0.896907       0.680941       0.6\n",
              "46  0.705128  0.917526       0.680941       0.6\n",
              "47  0.756410  0.917526       0.680941       0.6\n",
              "48  0.756410  0.948454       0.680941       0.6\n",
              "49  0.782051  0.948454       0.680941       0.6\n",
              "50  0.782051  0.958763       0.680941       0.6\n",
              "51  0.858974  0.958763       0.680941       0.6\n",
              "52  0.858974  0.969072       0.680941       0.6\n",
              "53  0.871795  0.969072       0.680941       0.6\n",
              "54  0.871795  0.989691       0.680941       0.6\n",
              "55  0.948718  0.989691       0.680941       0.6\n",
              "56  0.948718  1.000000       0.680941       0.6\n",
              "57  1.000000  1.000000       0.680941       0.6"
            ]
          },
          "execution_count": 207,
          "metadata": {},
          "output_type": "execute_result"
        }
      ],
      "source": [
        "out_data = pd.DataFrame()\n",
        "out_data[\"fpr\"]=fpr_gnb\n",
        "out_data[\"tpr\"]=tpr_gnb\n",
        "out_data[\"roc_auc_score\"]=roc_auc_score(y_test,  y_pred_proba_gnb[:,1])\n",
        "out_data[\"accuracy\"]=gnb.score(x_test,y_test)\n",
        "out_data.to_csv(\"GaussienNB.csv\",index=False)\n",
        "out_data"
      ]
    },
    {
      "cell_type": "code",
      "execution_count": 202,
      "metadata": {},
      "outputs": [
        {
          "data": {
            "text/html": [
              "<div>\n",
              "<style scoped>\n",
              "    .dataframe tbody tr th:only-of-type {\n",
              "        vertical-align: middle;\n",
              "    }\n",
              "\n",
              "    .dataframe tbody tr th {\n",
              "        vertical-align: top;\n",
              "    }\n",
              "\n",
              "    .dataframe thead th {\n",
              "        text-align: right;\n",
              "    }\n",
              "</style>\n",
              "<table border=\"1\" class=\"dataframe\">\n",
              "  <thead>\n",
              "    <tr style=\"text-align: right;\">\n",
              "      <th></th>\n",
              "      <th>fpr</th>\n",
              "      <th>tpr</th>\n",
              "      <th>roc_auc_score</th>\n",
              "      <th>accuracy</th>\n",
              "    </tr>\n",
              "  </thead>\n",
              "  <tbody>\n",
              "    <tr>\n",
              "      <th>0</th>\n",
              "      <td>0.000000</td>\n",
              "      <td>0.000000</td>\n",
              "      <td>0.680941</td>\n",
              "      <td>0.6</td>\n",
              "    </tr>\n",
              "    <tr>\n",
              "      <th>1</th>\n",
              "      <td>0.217949</td>\n",
              "      <td>0.381443</td>\n",
              "      <td>0.680941</td>\n",
              "      <td>0.6</td>\n",
              "    </tr>\n",
              "    <tr>\n",
              "      <th>2</th>\n",
              "      <td>0.217949</td>\n",
              "      <td>0.391753</td>\n",
              "      <td>0.680941</td>\n",
              "      <td>0.6</td>\n",
              "    </tr>\n",
              "    <tr>\n",
              "      <th>3</th>\n",
              "      <td>0.230769</td>\n",
              "      <td>0.402062</td>\n",
              "      <td>0.680941</td>\n",
              "      <td>0.6</td>\n",
              "    </tr>\n",
              "    <tr>\n",
              "      <th>4</th>\n",
              "      <td>0.230769</td>\n",
              "      <td>0.412371</td>\n",
              "      <td>0.680941</td>\n",
              "      <td>0.6</td>\n",
              "    </tr>\n",
              "    <tr>\n",
              "      <th>5</th>\n",
              "      <td>0.243590</td>\n",
              "      <td>0.412371</td>\n",
              "      <td>0.680941</td>\n",
              "      <td>0.6</td>\n",
              "    </tr>\n",
              "    <tr>\n",
              "      <th>6</th>\n",
              "      <td>0.243590</td>\n",
              "      <td>0.453608</td>\n",
              "      <td>0.680941</td>\n",
              "      <td>0.6</td>\n",
              "    </tr>\n",
              "    <tr>\n",
              "      <th>7</th>\n",
              "      <td>0.256410</td>\n",
              "      <td>0.453608</td>\n",
              "      <td>0.680941</td>\n",
              "      <td>0.6</td>\n",
              "    </tr>\n",
              "    <tr>\n",
              "      <th>8</th>\n",
              "      <td>0.256410</td>\n",
              "      <td>0.484536</td>\n",
              "      <td>0.680941</td>\n",
              "      <td>0.6</td>\n",
              "    </tr>\n",
              "    <tr>\n",
              "      <th>9</th>\n",
              "      <td>0.269231</td>\n",
              "      <td>0.484536</td>\n",
              "      <td>0.680941</td>\n",
              "      <td>0.6</td>\n",
              "    </tr>\n",
              "    <tr>\n",
              "      <th>10</th>\n",
              "      <td>0.269231</td>\n",
              "      <td>0.494845</td>\n",
              "      <td>0.680941</td>\n",
              "      <td>0.6</td>\n",
              "    </tr>\n",
              "    <tr>\n",
              "      <th>11</th>\n",
              "      <td>0.282051</td>\n",
              "      <td>0.494845</td>\n",
              "      <td>0.680941</td>\n",
              "      <td>0.6</td>\n",
              "    </tr>\n",
              "    <tr>\n",
              "      <th>12</th>\n",
              "      <td>0.282051</td>\n",
              "      <td>0.505155</td>\n",
              "      <td>0.680941</td>\n",
              "      <td>0.6</td>\n",
              "    </tr>\n",
              "    <tr>\n",
              "      <th>13</th>\n",
              "      <td>0.294872</td>\n",
              "      <td>0.505155</td>\n",
              "      <td>0.680941</td>\n",
              "      <td>0.6</td>\n",
              "    </tr>\n",
              "    <tr>\n",
              "      <th>14</th>\n",
              "      <td>0.294872</td>\n",
              "      <td>0.536082</td>\n",
              "      <td>0.680941</td>\n",
              "      <td>0.6</td>\n",
              "    </tr>\n",
              "    <tr>\n",
              "      <th>15</th>\n",
              "      <td>0.307692</td>\n",
              "      <td>0.536082</td>\n",
              "      <td>0.680941</td>\n",
              "      <td>0.6</td>\n",
              "    </tr>\n",
              "    <tr>\n",
              "      <th>16</th>\n",
              "      <td>0.307692</td>\n",
              "      <td>0.597938</td>\n",
              "      <td>0.680941</td>\n",
              "      <td>0.6</td>\n",
              "    </tr>\n",
              "    <tr>\n",
              "      <th>17</th>\n",
              "      <td>0.320513</td>\n",
              "      <td>0.597938</td>\n",
              "      <td>0.680941</td>\n",
              "      <td>0.6</td>\n",
              "    </tr>\n",
              "    <tr>\n",
              "      <th>18</th>\n",
              "      <td>0.320513</td>\n",
              "      <td>0.608247</td>\n",
              "      <td>0.680941</td>\n",
              "      <td>0.6</td>\n",
              "    </tr>\n",
              "    <tr>\n",
              "      <th>19</th>\n",
              "      <td>0.333333</td>\n",
              "      <td>0.608247</td>\n",
              "      <td>0.680941</td>\n",
              "      <td>0.6</td>\n",
              "    </tr>\n",
              "    <tr>\n",
              "      <th>20</th>\n",
              "      <td>0.333333</td>\n",
              "      <td>0.618557</td>\n",
              "      <td>0.680941</td>\n",
              "      <td>0.6</td>\n",
              "    </tr>\n",
              "    <tr>\n",
              "      <th>21</th>\n",
              "      <td>0.346154</td>\n",
              "      <td>0.618557</td>\n",
              "      <td>0.680941</td>\n",
              "      <td>0.6</td>\n",
              "    </tr>\n",
              "    <tr>\n",
              "      <th>22</th>\n",
              "      <td>0.346154</td>\n",
              "      <td>0.628866</td>\n",
              "      <td>0.680941</td>\n",
              "      <td>0.6</td>\n",
              "    </tr>\n",
              "    <tr>\n",
              "      <th>23</th>\n",
              "      <td>0.371795</td>\n",
              "      <td>0.628866</td>\n",
              "      <td>0.680941</td>\n",
              "      <td>0.6</td>\n",
              "    </tr>\n",
              "    <tr>\n",
              "      <th>24</th>\n",
              "      <td>0.371795</td>\n",
              "      <td>0.670103</td>\n",
              "      <td>0.680941</td>\n",
              "      <td>0.6</td>\n",
              "    </tr>\n",
              "    <tr>\n",
              "      <th>25</th>\n",
              "      <td>0.384615</td>\n",
              "      <td>0.670103</td>\n",
              "      <td>0.680941</td>\n",
              "      <td>0.6</td>\n",
              "    </tr>\n",
              "    <tr>\n",
              "      <th>26</th>\n",
              "      <td>0.384615</td>\n",
              "      <td>0.690722</td>\n",
              "      <td>0.680941</td>\n",
              "      <td>0.6</td>\n",
              "    </tr>\n",
              "    <tr>\n",
              "      <th>27</th>\n",
              "      <td>0.397436</td>\n",
              "      <td>0.690722</td>\n",
              "      <td>0.680941</td>\n",
              "      <td>0.6</td>\n",
              "    </tr>\n",
              "    <tr>\n",
              "      <th>28</th>\n",
              "      <td>0.397436</td>\n",
              "      <td>0.721649</td>\n",
              "      <td>0.680941</td>\n",
              "      <td>0.6</td>\n",
              "    </tr>\n",
              "    <tr>\n",
              "      <th>29</th>\n",
              "      <td>0.435897</td>\n",
              "      <td>0.721649</td>\n",
              "      <td>0.680941</td>\n",
              "      <td>0.6</td>\n",
              "    </tr>\n",
              "    <tr>\n",
              "      <th>30</th>\n",
              "      <td>0.435897</td>\n",
              "      <td>0.731959</td>\n",
              "      <td>0.680941</td>\n",
              "      <td>0.6</td>\n",
              "    </tr>\n",
              "    <tr>\n",
              "      <th>31</th>\n",
              "      <td>0.448718</td>\n",
              "      <td>0.731959</td>\n",
              "      <td>0.680941</td>\n",
              "      <td>0.6</td>\n",
              "    </tr>\n",
              "    <tr>\n",
              "      <th>32</th>\n",
              "      <td>0.448718</td>\n",
              "      <td>0.762887</td>\n",
              "      <td>0.680941</td>\n",
              "      <td>0.6</td>\n",
              "    </tr>\n",
              "    <tr>\n",
              "      <th>33</th>\n",
              "      <td>0.461538</td>\n",
              "      <td>0.762887</td>\n",
              "      <td>0.680941</td>\n",
              "      <td>0.6</td>\n",
              "    </tr>\n",
              "    <tr>\n",
              "      <th>34</th>\n",
              "      <td>0.461538</td>\n",
              "      <td>0.773196</td>\n",
              "      <td>0.680941</td>\n",
              "      <td>0.6</td>\n",
              "    </tr>\n",
              "    <tr>\n",
              "      <th>35</th>\n",
              "      <td>0.512821</td>\n",
              "      <td>0.773196</td>\n",
              "      <td>0.680941</td>\n",
              "      <td>0.6</td>\n",
              "    </tr>\n",
              "    <tr>\n",
              "      <th>36</th>\n",
              "      <td>0.512821</td>\n",
              "      <td>0.824742</td>\n",
              "      <td>0.680941</td>\n",
              "      <td>0.6</td>\n",
              "    </tr>\n",
              "    <tr>\n",
              "      <th>37</th>\n",
              "      <td>0.525641</td>\n",
              "      <td>0.824742</td>\n",
              "      <td>0.680941</td>\n",
              "      <td>0.6</td>\n",
              "    </tr>\n",
              "    <tr>\n",
              "      <th>38</th>\n",
              "      <td>0.525641</td>\n",
              "      <td>0.845361</td>\n",
              "      <td>0.680941</td>\n",
              "      <td>0.6</td>\n",
              "    </tr>\n",
              "    <tr>\n",
              "      <th>39</th>\n",
              "      <td>0.551282</td>\n",
              "      <td>0.845361</td>\n",
              "      <td>0.680941</td>\n",
              "      <td>0.6</td>\n",
              "    </tr>\n",
              "    <tr>\n",
              "      <th>40</th>\n",
              "      <td>0.551282</td>\n",
              "      <td>0.865979</td>\n",
              "      <td>0.680941</td>\n",
              "      <td>0.6</td>\n",
              "    </tr>\n",
              "    <tr>\n",
              "      <th>41</th>\n",
              "      <td>0.589744</td>\n",
              "      <td>0.865979</td>\n",
              "      <td>0.680941</td>\n",
              "      <td>0.6</td>\n",
              "    </tr>\n",
              "    <tr>\n",
              "      <th>42</th>\n",
              "      <td>0.589744</td>\n",
              "      <td>0.876289</td>\n",
              "      <td>0.680941</td>\n",
              "      <td>0.6</td>\n",
              "    </tr>\n",
              "    <tr>\n",
              "      <th>43</th>\n",
              "      <td>0.602564</td>\n",
              "      <td>0.876289</td>\n",
              "      <td>0.680941</td>\n",
              "      <td>0.6</td>\n",
              "    </tr>\n",
              "    <tr>\n",
              "      <th>44</th>\n",
              "      <td>0.602564</td>\n",
              "      <td>0.896907</td>\n",
              "      <td>0.680941</td>\n",
              "      <td>0.6</td>\n",
              "    </tr>\n",
              "    <tr>\n",
              "      <th>45</th>\n",
              "      <td>0.705128</td>\n",
              "      <td>0.896907</td>\n",
              "      <td>0.680941</td>\n",
              "      <td>0.6</td>\n",
              "    </tr>\n",
              "    <tr>\n",
              "      <th>46</th>\n",
              "      <td>0.705128</td>\n",
              "      <td>0.917526</td>\n",
              "      <td>0.680941</td>\n",
              "      <td>0.6</td>\n",
              "    </tr>\n",
              "    <tr>\n",
              "      <th>47</th>\n",
              "      <td>0.756410</td>\n",
              "      <td>0.917526</td>\n",
              "      <td>0.680941</td>\n",
              "      <td>0.6</td>\n",
              "    </tr>\n",
              "    <tr>\n",
              "      <th>48</th>\n",
              "      <td>0.756410</td>\n",
              "      <td>0.948454</td>\n",
              "      <td>0.680941</td>\n",
              "      <td>0.6</td>\n",
              "    </tr>\n",
              "    <tr>\n",
              "      <th>49</th>\n",
              "      <td>0.782051</td>\n",
              "      <td>0.948454</td>\n",
              "      <td>0.680941</td>\n",
              "      <td>0.6</td>\n",
              "    </tr>\n",
              "    <tr>\n",
              "      <th>50</th>\n",
              "      <td>0.782051</td>\n",
              "      <td>0.958763</td>\n",
              "      <td>0.680941</td>\n",
              "      <td>0.6</td>\n",
              "    </tr>\n",
              "    <tr>\n",
              "      <th>51</th>\n",
              "      <td>0.858974</td>\n",
              "      <td>0.958763</td>\n",
              "      <td>0.680941</td>\n",
              "      <td>0.6</td>\n",
              "    </tr>\n",
              "    <tr>\n",
              "      <th>52</th>\n",
              "      <td>0.858974</td>\n",
              "      <td>0.969072</td>\n",
              "      <td>0.680941</td>\n",
              "      <td>0.6</td>\n",
              "    </tr>\n",
              "    <tr>\n",
              "      <th>53</th>\n",
              "      <td>0.871795</td>\n",
              "      <td>0.969072</td>\n",
              "      <td>0.680941</td>\n",
              "      <td>0.6</td>\n",
              "    </tr>\n",
              "    <tr>\n",
              "      <th>54</th>\n",
              "      <td>0.871795</td>\n",
              "      <td>0.989691</td>\n",
              "      <td>0.680941</td>\n",
              "      <td>0.6</td>\n",
              "    </tr>\n",
              "    <tr>\n",
              "      <th>55</th>\n",
              "      <td>0.948718</td>\n",
              "      <td>0.989691</td>\n",
              "      <td>0.680941</td>\n",
              "      <td>0.6</td>\n",
              "    </tr>\n",
              "    <tr>\n",
              "      <th>56</th>\n",
              "      <td>0.948718</td>\n",
              "      <td>1.000000</td>\n",
              "      <td>0.680941</td>\n",
              "      <td>0.6</td>\n",
              "    </tr>\n",
              "    <tr>\n",
              "      <th>57</th>\n",
              "      <td>1.000000</td>\n",
              "      <td>1.000000</td>\n",
              "      <td>0.680941</td>\n",
              "      <td>0.6</td>\n",
              "    </tr>\n",
              "  </tbody>\n",
              "</table>\n",
              "</div>"
            ],
            "text/plain": [
              "         fpr       tpr  roc_auc_score  accuracy\n",
              "0   0.000000  0.000000       0.680941       0.6\n",
              "1   0.217949  0.381443       0.680941       0.6\n",
              "2   0.217949  0.391753       0.680941       0.6\n",
              "3   0.230769  0.402062       0.680941       0.6\n",
              "4   0.230769  0.412371       0.680941       0.6\n",
              "5   0.243590  0.412371       0.680941       0.6\n",
              "6   0.243590  0.453608       0.680941       0.6\n",
              "7   0.256410  0.453608       0.680941       0.6\n",
              "8   0.256410  0.484536       0.680941       0.6\n",
              "9   0.269231  0.484536       0.680941       0.6\n",
              "10  0.269231  0.494845       0.680941       0.6\n",
              "11  0.282051  0.494845       0.680941       0.6\n",
              "12  0.282051  0.505155       0.680941       0.6\n",
              "13  0.294872  0.505155       0.680941       0.6\n",
              "14  0.294872  0.536082       0.680941       0.6\n",
              "15  0.307692  0.536082       0.680941       0.6\n",
              "16  0.307692  0.597938       0.680941       0.6\n",
              "17  0.320513  0.597938       0.680941       0.6\n",
              "18  0.320513  0.608247       0.680941       0.6\n",
              "19  0.333333  0.608247       0.680941       0.6\n",
              "20  0.333333  0.618557       0.680941       0.6\n",
              "21  0.346154  0.618557       0.680941       0.6\n",
              "22  0.346154  0.628866       0.680941       0.6\n",
              "23  0.371795  0.628866       0.680941       0.6\n",
              "24  0.371795  0.670103       0.680941       0.6\n",
              "25  0.384615  0.670103       0.680941       0.6\n",
              "26  0.384615  0.690722       0.680941       0.6\n",
              "27  0.397436  0.690722       0.680941       0.6\n",
              "28  0.397436  0.721649       0.680941       0.6\n",
              "29  0.435897  0.721649       0.680941       0.6\n",
              "30  0.435897  0.731959       0.680941       0.6\n",
              "31  0.448718  0.731959       0.680941       0.6\n",
              "32  0.448718  0.762887       0.680941       0.6\n",
              "33  0.461538  0.762887       0.680941       0.6\n",
              "34  0.461538  0.773196       0.680941       0.6\n",
              "35  0.512821  0.773196       0.680941       0.6\n",
              "36  0.512821  0.824742       0.680941       0.6\n",
              "37  0.525641  0.824742       0.680941       0.6\n",
              "38  0.525641  0.845361       0.680941       0.6\n",
              "39  0.551282  0.845361       0.680941       0.6\n",
              "40  0.551282  0.865979       0.680941       0.6\n",
              "41  0.589744  0.865979       0.680941       0.6\n",
              "42  0.589744  0.876289       0.680941       0.6\n",
              "43  0.602564  0.876289       0.680941       0.6\n",
              "44  0.602564  0.896907       0.680941       0.6\n",
              "45  0.705128  0.896907       0.680941       0.6\n",
              "46  0.705128  0.917526       0.680941       0.6\n",
              "47  0.756410  0.917526       0.680941       0.6\n",
              "48  0.756410  0.948454       0.680941       0.6\n",
              "49  0.782051  0.948454       0.680941       0.6\n",
              "50  0.782051  0.958763       0.680941       0.6\n",
              "51  0.858974  0.958763       0.680941       0.6\n",
              "52  0.858974  0.969072       0.680941       0.6\n",
              "53  0.871795  0.969072       0.680941       0.6\n",
              "54  0.871795  0.989691       0.680941       0.6\n",
              "55  0.948718  0.989691       0.680941       0.6\n",
              "56  0.948718  1.000000       0.680941       0.6\n",
              "57  1.000000  1.000000       0.680941       0.6"
            ]
          },
          "execution_count": 202,
          "metadata": {},
          "output_type": "execute_result"
        }
      ],
      "source": [
        "out_data = pd.DataFrame()\n",
        "out_data[\"fpr\"]=fpr_gnb\n",
        "out_data[\"tpr\"]=tpr_gnb\n",
        "out_data[\"roc_auc_score\"]=roc_auc_score(y_test,  y_pred_proba_gnb[:,1])\n",
        "out_data[\"accuracy\"]=gnb.score(x_test,y_test)\n",
        "out_data.to_csv(\"GaussienNB.csv\",index=False)\n",
        "out_data"
      ]
    },
    {
      "cell_type": "code",
      "execution_count": 138,
      "metadata": {},
      "outputs": [
        {
          "data": {
            "image/png": "[encoded data removed]",
            "text/plain": [
              "<Figure size 640x480 with 1 Axes>"
            ]
          },
          "metadata": {},
          "output_type": "display_data"
        }
      ],
      "source": [
        "plt.plot(fpr_gnb,tpr_gnb,label=gnb.__class__.__name__+\"(8) (AUC = \"+str(round(roc_auc_score(y_test,  y_pred_proba_gnb[:,1]),2))+\")\")\n",
        "plt.legend(loc='lower right')\n",
        "plt.show()"
      ]
    },
    {
      "cell_type": "code",
      "execution_count": 64,
      "metadata": {},
      "outputs": [
        {
          "data": {
            "text/plain": [
              "0.6"
            ]
          },
          "execution_count": 64,
          "metadata": {},
          "output_type": "execute_result"
        }
      ],
      "source": [
        "accuracy_score(y_test,y_pred)"
      ]
    },
    {
      "cell_type": "code",
      "execution_count": null,
      "metadata": {},
      "outputs": [],
      "source": [
        "from sklearn.discriminant_analysis import LinearDiscriminantAnalysis\n",
        "lda = LinearDiscriminantAnalysis()\n",
        "y_pred = lda.fit(x_train, y_train).predict(x_test)"
      ]
    },
    {
      "cell_type": "code",
      "execution_count": 106,
      "metadata": {},
      "outputs": [
        {
          "data": {
            "text/plain": [
              "0.68"
            ]
          },
          "execution_count": 106,
          "metadata": {},
          "output_type": "execute_result"
        }
      ],
      "source": [
        "lda.score(x_test,y_test)"
      ]
    },
    {
      "cell_type": "code",
      "execution_count": 139,
      "metadata": {},
      "outputs": [],
      "source": [
        "y_pred_proba_lda = lda.predict_proba(x_test)"
      ]
    },
    {
      "cell_type": "code",
      "execution_count": 181,
      "metadata": {},
      "outputs": [],
      "source": [
        "fpr_lda,tpr_lda,th_lda=roc_curve(y_test,y_pred_proba_lda[:,1])"
      ]
    },
    {
      "cell_type": "code",
      "execution_count": 198,
      "metadata": {},
      "outputs": [
        {
          "data": {
            "text/html": [
              "<div>\n",
              "<style scoped>\n",
              "    .dataframe tbody tr th:only-of-type {\n",
              "        vertical-align: middle;\n",
              "    }\n",
              "\n",
              "    .dataframe tbody tr th {\n",
              "        vertical-align: top;\n",
              "    }\n",
              "\n",
              "    .dataframe thead th {\n",
              "        text-align: right;\n",
              "    }\n",
              "</style>\n",
              "<table border=\"1\" class=\"dataframe\">\n",
              "  <thead>\n",
              "    <tr style=\"text-align: right;\">\n",
              "      <th></th>\n",
              "      <th>fpr</th>\n",
              "      <th>tpr</th>\n",
              "      <th>roc_auc_score</th>\n",
              "      <th>accuracy</th>\n",
              "    </tr>\n",
              "  </thead>\n",
              "  <tbody>\n",
              "    <tr>\n",
              "      <th>0</th>\n",
              "      <td>0.000000</td>\n",
              "      <td>0.000000</td>\n",
              "      <td>0.704996</td>\n",
              "      <td>0.68</td>\n",
              "    </tr>\n",
              "    <tr>\n",
              "      <th>1</th>\n",
              "      <td>0.000000</td>\n",
              "      <td>0.010309</td>\n",
              "      <td>0.704996</td>\n",
              "      <td>0.68</td>\n",
              "    </tr>\n",
              "    <tr>\n",
              "      <th>2</th>\n",
              "      <td>0.000000</td>\n",
              "      <td>0.113402</td>\n",
              "      <td>0.704996</td>\n",
              "      <td>0.68</td>\n",
              "    </tr>\n",
              "    <tr>\n",
              "      <th>3</th>\n",
              "      <td>0.025641</td>\n",
              "      <td>0.113402</td>\n",
              "      <td>0.704996</td>\n",
              "      <td>0.68</td>\n",
              "    </tr>\n",
              "    <tr>\n",
              "      <th>4</th>\n",
              "      <td>0.025641</td>\n",
              "      <td>0.154639</td>\n",
              "      <td>0.704996</td>\n",
              "      <td>0.68</td>\n",
              "    </tr>\n",
              "    <tr>\n",
              "      <th>...</th>\n",
              "      <td>...</td>\n",
              "      <td>...</td>\n",
              "      <td>...</td>\n",
              "      <td>...</td>\n",
              "    </tr>\n",
              "    <tr>\n",
              "      <th>76</th>\n",
              "      <td>0.935897</td>\n",
              "      <td>0.979381</td>\n",
              "      <td>0.704996</td>\n",
              "      <td>0.68</td>\n",
              "    </tr>\n",
              "    <tr>\n",
              "      <th>77</th>\n",
              "      <td>0.974359</td>\n",
              "      <td>0.979381</td>\n",
              "      <td>0.704996</td>\n",
              "      <td>0.68</td>\n",
              "    </tr>\n",
              "    <tr>\n",
              "      <th>78</th>\n",
              "      <td>0.974359</td>\n",
              "      <td>0.989691</td>\n",
              "      <td>0.704996</td>\n",
              "      <td>0.68</td>\n",
              "    </tr>\n",
              "    <tr>\n",
              "      <th>79</th>\n",
              "      <td>1.000000</td>\n",
              "      <td>0.989691</td>\n",
              "      <td>0.704996</td>\n",
              "      <td>0.68</td>\n",
              "    </tr>\n",
              "    <tr>\n",
              "      <th>80</th>\n",
              "      <td>1.000000</td>\n",
              "      <td>1.000000</td>\n",
              "      <td>0.704996</td>\n",
              "      <td>0.68</td>\n",
              "    </tr>\n",
              "  </tbody>\n",
              "</table>\n",
              "<p>81 rows × 4 columns</p>\n",
              "</div>"
            ],
            "text/plain": [
              "         fpr       tpr  roc_auc_score  accuracy\n",
              "0   0.000000  0.000000       0.704996      0.68\n",
              "1   0.000000  0.010309       0.704996      0.68\n",
              "2   0.000000  0.113402       0.704996      0.68\n",
              "3   0.025641  0.113402       0.704996      0.68\n",
              "4   0.025641  0.154639       0.704996      0.68\n",
              "..       ...       ...            ...       ...\n",
              "76  0.935897  0.979381       0.704996      0.68\n",
              "77  0.974359  0.979381       0.704996      0.68\n",
              "78  0.974359  0.989691       0.704996      0.68\n",
              "79  1.000000  0.989691       0.704996      0.68\n",
              "80  1.000000  1.000000       0.704996      0.68\n",
              "\n",
              "[81 rows x 4 columns]"
            ]
          },
          "execution_count": 198,
          "metadata": {},
          "output_type": "execute_result"
        }
      ],
      "source": [
        "out_data = pd.DataFrame()\n",
        "out_data[\"fpr\"]=fpr_lda\n",
        "out_data[\"tpr\"]=tpr_lda\n",
        "out_data[\"roc_auc_score\"]=roc_auc_score(y_test,  y_pred_proba_lda[:,1])\n",
        "out_data[\"accuracy\"]=lda.score(x_test,y_test)\n",
        "out_data.to_csv(\"Linear Discriminant Analysis.csv\",index=False)\n",
        "out_data"
      ]
    },
    {
      "cell_type": "code",
      "execution_count": 140,
      "metadata": {},
      "outputs": [
        {
          "data": {
            "image/png": "[encoded data removed]",
            "text/plain": [
              "<Figure size 640x480 with 1 Axes>"
            ]
          },
          "metadata": {},
          "output_type": "display_data"
        }
      ],
      "source": [
        "fpr_lda,tpr_lda,th_lda=roc_curve(y_test,y_pred_proba_lda[:,1])\n",
        "plt.plot(fpr_lda,tpr_lda,label=lda.__class__.__name__+\"(8) (AUC = \"+str(round(roc_auc_score(y_test,  y_pred_proba_lda[:,1]),2))+\")\")\n",
        "plt.legend(loc='lower right')\n",
        "plt.show()"
      ]
    }
  ],
  "metadata": {
    "colab": {
      "provenance": []
    },
    "kernelspec": {
      "display_name": "Python 3",
      "name": "python3"
    },
    "language_info": {
      "codemirror_mode": {
        "name": "ipython",
        "version": 3
      },
      "file_extension": ".py",
      "mimetype": "text/x-python",
      "name": "python",
      "nbconvert_exporter": "python",
      "pygments_lexer": "ipython3",
      "version": "3.8.0"
    }
  },
  "nbformat": 4,
  "nbformat_minor": 0
}
