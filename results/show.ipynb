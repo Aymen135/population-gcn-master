{
 "cells": [
  {
   "cell_type": "code",
   "execution_count": 2,
   "metadata": {},
   "outputs": [],
   "source": [
    "import scipy.io\n",
    "mat = scipy.io.loadmat('ABIDE_classification_logistic_and_lasso.mat')"
   ]
  },
  {
   "cell_type": "code",
   "execution_count": 3,
   "metadata": {},
   "outputs": [
    {
     "data": {
      "text/plain": [
       "{'__header__': b'MATLAB 5.0 MAT-file Platform: nt, Created on: Sat Apr 29 11:00:07 2023',\n",
       " '__version__': '1.0',\n",
       " '__globals__': [],\n",
       " 'lin': array([[56]]),\n",
       " 'lin_auc': array([[0.63310846]]),\n",
       " 'acc': array([[41]]),\n",
       " 'auc': array([[0.5]]),\n",
       " 'folds': array([[88]])}"
      ]
     },
     "execution_count": 3,
     "metadata": {},
     "output_type": "execute_result"
    }
   ],
   "source": [
    "mat\n"
   ]
  },
  {
   "cell_type": "code",
   "execution_count": 4,
   "metadata": {},
   "outputs": [
    {
     "data": {
      "text/plain": [
       "{'__header__': b'MATLAB 5.0 MAT-file Platform: nt, Created on: Sat Apr 29 10:41:41 2023',\n",
       " '__version__': '1.0',\n",
       " '__globals__': [],\n",
       " 'lin': array([[55]]),\n",
       " 'lin_auc': array([[0.68967307]]),\n",
       " 'acc': array([[41]]),\n",
       " 'auc': array([[0.5]]),\n",
       " 'folds': array([[88]])}"
      ]
     },
     "execution_count": 4,
     "metadata": {},
     "output_type": "execute_result"
    }
   ],
   "source": [
    "mat = scipy.io.loadmat('ABIDE_classification_logistic_regression.mat')\n",
    "mat"
   ]
  },
  {
   "cell_type": "code",
   "execution_count": 5,
   "metadata": {},
   "outputs": [
    {
     "data": {
      "text/plain": [
       "{'__header__': b'MATLAB 5.0 MAT-file Platform: nt, Created on: Sat Apr 29 10:46:51 2023',\n",
       " '__version__': '1.0',\n",
       " '__globals__': [],\n",
       " 'lin': array([[60]]),\n",
       " 'lin_auc': array([[0.71925272]]),\n",
       " 'acc': array([[41]]),\n",
       " 'auc': array([[0.5]]),\n",
       " 'folds': array([[88]])}"
      ]
     },
     "execution_count": 5,
     "metadata": {},
     "output_type": "execute_result"
    }
   ],
   "source": [
    "mat = scipy.io.loadmat('ABIDE_classification_logistic')\n",
    "mat"
   ]
  },
  {
   "cell_type": "code",
   "execution_count": 9,
   "metadata": {},
   "outputs": [
    {
     "data": {
      "text/plain": [
       "{'__header__': b'MATLAB 5.0 MAT-file Platform: nt, Created on: Sat Apr 29 11:57:43 2023',\n",
       " '__version__': '1.0',\n",
       " '__globals__': [],\n",
       " 'lin': array([[60]]),\n",
       " 'lin_auc': array([[0.71873378]]),\n",
       " 'acc': array([[41]]),\n",
       " 'auc': array([[0.5]]),\n",
       " 'folds': array([[88]]),\n",
       " 'overall linear accuracy': array([[0.68181818]]),\n",
       " 'overall linear AUC': array([[0.71873378]]),\n",
       " 'overall accuracy': array([[0.46590909]]),\n",
       " 'overall AUC': array([[0.5]])}"
      ]
     },
     "execution_count": 9,
     "metadata": {},
     "output_type": "execute_result"
    }
   ],
   "source": [
    "mat = scipy.io.loadmat('ABIDE_classification_logistic_and_svm.mat')\n",
    "mat"
   ]
  },
  {
   "cell_type": "code",
   "execution_count": 11,
   "metadata": {},
   "outputs": [
    {
     "data": {
      "text/plain": [
       "{'__header__': b'MATLAB 5.0 MAT-file Platform: nt, Created on: Sat Apr 29 11:57:43 2023',\n",
       " '__version__': '1.0',\n",
       " '__globals__': [],\n",
       " 'lin': array([[60]]),\n",
       " 'lin_auc': array([[0.71873378]]),\n",
       " 'acc': array([[41]]),\n",
       " 'auc': array([[0.5]]),\n",
       " 'folds': array([[88]]),\n",
       " 'overall linear accuracy': array([[0.68181818]]),\n",
       " 'overall linear AUC': array([[0.71873378]]),\n",
       " 'overall accuracy': array([[0.46590909]]),\n",
       " 'overall AUC': array([[0.5]])}"
      ]
     },
     "execution_count": 11,
     "metadata": {},
     "output_type": "execute_result"
    }
   ],
   "source": [
    "mat = scipy.io.loadmat('ABIDE_classification_logistic_and_svm.mat')\n",
    "mat"
   ]
  },
  {
   "cell_type": "code",
   "execution_count": 12,
   "metadata": {},
   "outputs": [
    {
     "data": {
      "text/plain": [
       "{'__header__': b'MATLAB 5.0 MAT-file Platform: nt, Created on: Sat Apr 29 12:01:33 2023',\n",
       " '__version__': '1.0',\n",
       " '__globals__': [],\n",
       " 'lin': array([[59]]),\n",
       " 'lin_auc': array([[0.71925272]]),\n",
       " 'acc': array([[41]]),\n",
       " 'auc': array([[0.5]]),\n",
       " 'folds': array([[88]]),\n",
       " 'overall linear accuracy': array([[0.67045455]]),\n",
       " 'overall linear AUC': array([[0.71925272]]),\n",
       " 'overall accuracy': array([[0.46590909]]),\n",
       " 'overall AUC': array([[0.5]])}"
      ]
     },
     "execution_count": 12,
     "metadata": {},
     "output_type": "execute_result"
    }
   ],
   "source": [
    "mat = scipy.io.loadmat('ABIDE_classification_logistic_and_svm_3000.mat')\n",
    "mat"
   ]
  },
  {
   "cell_type": "code",
   "execution_count": 14,
   "metadata": {},
   "outputs": [
    {
     "data": {
      "text/plain": [
       "{'__header__': b'MATLAB 5.0 MAT-file Platform: nt, Created on: Sat Apr 29 12:07:45 2023',\n",
       " '__version__': '1.0',\n",
       " '__globals__': [],\n",
       " 'lin': array([[61]]),\n",
       " 'lin_auc': array([[0.71198755]]),\n",
       " 'acc': array([[41]]),\n",
       " 'auc': array([[0.5]]),\n",
       " 'folds': array([[88]]),\n",
       " 'overall linear accuracy': array([[0.69318182]]),\n",
       " 'overall linear AUC': array([[0.71198755]]),\n",
       " 'overall accuracy': array([[0.46590909]]),\n",
       " 'overall AUC': array([[0.5]])}"
      ]
     },
     "execution_count": 14,
     "metadata": {},
     "output_type": "execute_result"
    }
   ],
   "source": [
    "mat = scipy.io.loadmat('ABIDE_classification_logistic_and_svm_6000.mat')\n",
    "mat"
   ]
  },
  {
   "cell_type": "code",
   "execution_count": 15,
   "metadata": {},
   "outputs": [
    {
     "data": {
      "text/plain": [
       "{'__header__': b'MATLAB 5.0 MAT-file Platform: nt, Created on: Sat Apr 29 12:13:30 2023',\n",
       " '__version__': '1.0',\n",
       " '__globals__': [],\n",
       " 'lin': array([[58]]),\n",
       " 'lin_auc': array([[0.72236637]]),\n",
       " 'acc': array([[41]]),\n",
       " 'auc': array([[0.5]]),\n",
       " 'folds': array([[88]]),\n",
       " 'overall linear accuracy': array([[0.65909091]]),\n",
       " 'overall linear AUC': array([[0.72236637]]),\n",
       " 'overall accuracy': array([[0.46590909]]),\n",
       " 'overall AUC': array([[0.5]])}"
      ]
     },
     "execution_count": 15,
     "metadata": {},
     "output_type": "execute_result"
    }
   ],
   "source": [
    "mat = scipy.io.loadmat('ABIDE_classification_logistic_and_ridge_2000_10.mat')\n",
    "mat"
   ]
  },
  {
   "cell_type": "code",
   "execution_count": 16,
   "metadata": {},
   "outputs": [
    {
     "data": {
      "text/plain": [
       "{'__header__': b'MATLAB 5.0 MAT-file Platform: nt, Created on: Sat Apr 29 12:15:15 2023',\n",
       " '__version__': '1.0',\n",
       " '__globals__': [],\n",
       " 'lin': array([[56]]),\n",
       " 'lin_auc': array([[0.63310846]]),\n",
       " 'acc': array([[41]]),\n",
       " 'auc': array([[0.5]]),\n",
       " 'folds': array([[88]]),\n",
       " 'overall linear accuracy': array([[0.63636364]]),\n",
       " 'overall linear AUC': array([[0.63310846]]),\n",
       " 'overall accuracy': array([[0.46590909]]),\n",
       " 'overall AUC': array([[0.5]])}"
      ]
     },
     "execution_count": 16,
     "metadata": {},
     "output_type": "execute_result"
    }
   ],
   "source": [
    "mat = scipy.io.loadmat('ABIDE_classification_logistic_and_lasso_2000_10.mat')\n",
    "mat"
   ]
  },
  {
   "cell_type": "code",
   "execution_count": 17,
   "metadata": {},
   "outputs": [
    {
     "data": {
      "text/plain": [
       "{'__header__': b'MATLAB 5.0 MAT-file Platform: nt, Created on: Sat Apr 29 12:16:22 2023',\n",
       " '__version__': '1.0',\n",
       " '__globals__': [],\n",
       " 'lin': array([[60]]),\n",
       " 'lin_auc': array([[0.71925272]]),\n",
       " 'acc': array([[41]]),\n",
       " 'auc': array([[0.5]]),\n",
       " 'folds': array([[88]]),\n",
       " 'overall linear accuracy': array([[0.68181818]]),\n",
       " 'overall linear AUC': array([[0.71925272]]),\n",
       " 'overall accuracy': array([[0.46590909]]),\n",
       " 'overall AUC': array([[0.5]])}"
      ]
     },
     "execution_count": 17,
     "metadata": {},
     "output_type": "execute_result"
    }
   ],
   "source": [
    "mat = scipy.io.loadmat('ABIDE_classification_logistic_and_logistic_2000_10.mat')\n",
    "mat"
   ]
  },
  {
   "cell_type": "code",
   "execution_count": 18,
   "metadata": {},
   "outputs": [
    {
     "data": {
      "text/plain": [
       "{'__header__': b'MATLAB 5.0 MAT-file Platform: nt, Created on: Sat Apr 29 12:19:10 2023',\n",
       " '__version__': '1.0',\n",
       " '__globals__': [],\n",
       " 'lin': array([[55]]),\n",
       " 'lin_auc': array([[0.68967307]]),\n",
       " 'acc': array([[41]]),\n",
       " 'auc': array([[0.5]]),\n",
       " 'folds': array([[88]]),\n",
       " 'overall linear accuracy': array([[0.625]]),\n",
       " 'overall linear AUC': array([[0.68967307]]),\n",
       " 'overall accuracy': array([[0.46590909]]),\n",
       " 'overall AUC': array([[0.5]])}"
      ]
     },
     "execution_count": 18,
     "metadata": {},
     "output_type": "execute_result"
    }
   ],
   "source": [
    "mat = scipy.io.loadmat('ABIDE_classification_ridge_and_logistic_2000_10.mat')\n",
    "mat"
   ]
  },
  {
   "cell_type": "code",
   "execution_count": 20,
   "metadata": {},
   "outputs": [
    {
     "data": {
      "text/plain": [
       "{'__header__': b'MATLAB 5.0 MAT-file Platform: nt, Created on: Sat Apr 29 12:36:17 2023',\n",
       " '__version__': '1.0',\n",
       " '__globals__': [],\n",
       " 'lin': array([[55]]),\n",
       " 'lin_auc': array([[0.70316554]]),\n",
       " 'acc': array([[41]]),\n",
       " 'auc': array([[0.5]]),\n",
       " 'folds': array([[88]]),\n",
       " 'overall linear accuracy': array([[0.625]]),\n",
       " 'overall linear AUC': array([[0.70316554]]),\n",
       " 'overall accuracy': array([[0.46590909]]),\n",
       " 'overall AUC': array([[0.5]])}"
      ]
     },
     "execution_count": 20,
     "metadata": {},
     "output_type": "execute_result"
    }
   ],
   "source": [
    "mat = scipy.io.loadmat('ABIDE_classification_knn_and_logistic_2000_10.mat')\n",
    "mat"
   ]
  },
  {
   "cell_type": "code",
   "execution_count": 21,
   "metadata": {},
   "outputs": [
    {
     "data": {
      "text/plain": [
       "{'__header__': b'MATLAB 5.0 MAT-file Platform: nt, Created on: Sat Apr 29 12:38:15 2023',\n",
       " '__version__': '1.0',\n",
       " '__globals__': [],\n",
       " 'lin': array([[57]]),\n",
       " 'lin_auc': array([[0.69901401]]),\n",
       " 'acc': array([[41]]),\n",
       " 'auc': array([[0.5]]),\n",
       " 'folds': array([[88]]),\n",
       " 'overall linear accuracy': array([[0.64772727]]),\n",
       " 'overall linear AUC': array([[0.69901401]]),\n",
       " 'overall accuracy': array([[0.46590909]]),\n",
       " 'overall AUC': array([[0.5]])}"
      ]
     },
     "execution_count": 21,
     "metadata": {},
     "output_type": "execute_result"
    }
   ],
   "source": [
    "mat = scipy.io.loadmat('ABIDE_classification_ridge_and_logistic_2000_10.mat')\n",
    "mat"
   ]
  },
  {
   "cell_type": "code",
   "execution_count": 22,
   "metadata": {},
   "outputs": [
    {
     "data": {
      "text/plain": [
       "{'__header__': b'MATLAB 5.0 MAT-file Platform: nt, Created on: Sat Apr 29 12:39:52 2023',\n",
       " '__version__': '1.0',\n",
       " '__globals__': [],\n",
       " 'lin': array([[58]]),\n",
       " 'lin_auc': array([[0.72236637]]),\n",
       " 'acc': array([[41]]),\n",
       " 'auc': array([[0.5]]),\n",
       " 'folds': array([[88]]),\n",
       " 'overall linear accuracy': array([[0.65909091]]),\n",
       " 'overall linear AUC': array([[0.72236637]]),\n",
       " 'overall accuracy': array([[0.46590909]]),\n",
       " 'overall AUC': array([[0.5]])}"
      ]
     },
     "execution_count": 22,
     "metadata": {},
     "output_type": "execute_result"
    }
   ],
   "source": [
    "mat = scipy.io.loadmat('ABIDE_classification_logistic_and_logistic_2000_10.mat')\n",
    "mat"
   ]
  },
  {
   "cell_type": "code",
   "execution_count": 1,
   "metadata": {},
   "outputs": [
    {
     "data": {
      "text/plain": [
       "True"
      ]
     },
     "execution_count": 1,
     "metadata": {},
     "output_type": "execute_result"
    }
   ],
   "source": [
    "import tensorflow as tf \n",
    "tf.test.is_built_with_cuda()"
   ]
  },
  {
   "cell_type": "code",
   "execution_count": 2,
   "metadata": {},
   "outputs": [
    {
     "data": {
      "text/plain": [
       "[PhysicalDevice(name='/physical_device:GPU:0', device_type='GPU')]"
      ]
     },
     "execution_count": 2,
     "metadata": {},
     "output_type": "execute_result"
    }
   ],
   "source": [
    "tf.config.list_physical_devices('GPU')"
   ]
  },
  {
   "cell_type": "code",
   "execution_count": 1,
   "metadata": {},
   "outputs": [],
   "source": [
    "import scipy.io"
   ]
  },
  {
   "cell_type": "code",
   "execution_count": 3,
   "metadata": {},
   "outputs": [
    {
     "data": {
      "text/plain": [
       "(111, 111)"
      ]
     },
     "execution_count": 3,
     "metadata": {},
     "output_type": "execute_result"
    }
   ],
   "source": [
    "mat = scipy.io.loadmat('C:/Users/ousem/nilearn_data/ABIDE_pcp/cpac/filt_noglobal/50003/50003_ho_correlation.mat')\n",
    "mat['connectivity'].shape"
   ]
  },
  {
   "cell_type": "code",
   "execution_count": 4,
   "metadata": {},
   "outputs": [],
   "source": [
    "import numpy as np"
   ]
  },
  {
   "cell_type": "code",
   "execution_count": 5,
   "metadata": {},
   "outputs": [],
   "source": [
    "np.savetxt('./timeseries50003.txt',mat['connectivity'])"
   ]
  },
  {
   "cell_type": "code",
   "execution_count": 9,
   "metadata": {},
   "outputs": [
    {
     "ename": "ModuleNotFoundError",
     "evalue": "No module named 'ABIDEParser'",
     "output_type": "error",
     "traceback": [
      "\u001b[1;31m---------------------------------------------------------------------------\u001b[0m",
      "\u001b[1;31mModuleNotFoundError\u001b[0m                       Traceback (most recent call last)",
      "Cell \u001b[1;32mIn[9], line 1\u001b[0m\n\u001b[1;32m----> 1\u001b[0m \u001b[39mimport\u001b[39;00m \u001b[39mABIDEParser\u001b[39;00m \u001b[39mas\u001b[39;00m \u001b[39mReader\u001b[39;00m\n",
      "\u001b[1;31mModuleNotFoundError\u001b[0m: No module named 'ABIDEParser'"
     ]
    }
   ],
   "source": []
  }
 ],
 "metadata": {
  "kernelspec": {
   "display_name": "population-gcn2-YZL6I4UQ",
   "language": "python",
   "name": "python3"
  },
  "language_info": {
   "codemirror_mode": {
    "name": "ipython",
    "version": 3
   },
   "file_extension": ".py",
   "mimetype": "text/x-python",
   "name": "python",
   "nbconvert_exporter": "python",
   "pygments_lexer": "ipython3",
   "version": "3.8.0"
  },
  "orig_nbformat": 4
 },
 "nbformat": 4,
 "nbformat_minor": 2
}
